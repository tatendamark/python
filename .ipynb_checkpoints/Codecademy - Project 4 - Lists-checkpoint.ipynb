{
 "cells": [
  {
   "cell_type": "code",
   "execution_count": 1,
   "metadata": {},
   "outputs": [
    {
     "data": {
      "text/plain": [
       "'Python Gradebook\\nYou are a student and you are trying to organize your subjects and grades using Python. Let’s explore what we’ve learned about lists to organize your subjects and scores.\\n\\nIf you get stuck during this project or would like to see an experienced developer work through it, click “Get Help“ to see a project walkthrough video.'"
      ]
     },
     "execution_count": 1,
     "metadata": {},
     "output_type": "execute_result"
    }
   ],
   "source": [
    "\"\"\"Python Gradebook\n",
    "You are a student and you are trying to organize your subjects and grades using Python. Let’s explore what we’ve learned about lists to organize your subjects and scores.\n",
    "\n",
    "If you get stuck during this project or would like to see an experienced developer work through it, click “Get Help“ to see a project walkthrough video.\"\"\""
   ]
  },
  {
   "cell_type": "code",
   "execution_count": 2,
   "metadata": {},
   "outputs": [
    {
     "name": "stdout",
     "output_type": "stream",
     "text": [
      "[('physics', 98), ('calculus', 97), ('poetry', 85), ('history', 88), ('computer science', 100), ('visual arts', 93)]\n"
     ]
    }
   ],
   "source": [
    "last_semester_gradebook = [(\"politics\", 80), (\"latin\", 96), (\"dance\", 97), (\"architecture\", 65)]\n",
    "\n",
    "subjects = [\"physics\", \"calculus\", \"poetry\", \"history\"]\n",
    "grades = [98, 97, 85, 88]\n",
    "subjects.append(\"computer science\")\n",
    "grades.append(100)\n",
    "gradebook = list(zip(subjects, grades))\n",
    "gradebook = gradebook + [(\"visual arts\", 93)]\n",
    "print(gradebook)\n",
    "full_gradebook = gradebook + last_semester_gradebook\n"
   ]
  },
  {
   "cell_type": "code",
   "execution_count": null,
   "metadata": {},
   "outputs": [],
   "source": []
  }
 ],
 "metadata": {
  "kernelspec": {
   "display_name": "Python 3",
   "language": "python",
   "name": "python3"
  },
  "language_info": {
   "codemirror_mode": {
    "name": "ipython",
    "version": 3
   },
   "file_extension": ".py",
   "mimetype": "text/x-python",
   "name": "python",
   "nbconvert_exporter": "python",
   "pygments_lexer": "ipython3",
   "version": "3.7.0"
  }
 },
 "nbformat": 4,
 "nbformat_minor": 2
}
