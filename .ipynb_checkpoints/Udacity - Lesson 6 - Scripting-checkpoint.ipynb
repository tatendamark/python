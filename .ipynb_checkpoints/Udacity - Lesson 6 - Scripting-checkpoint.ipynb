{
 "cells": [
  {
   "cell_type": "code",
   "execution_count": 24,
   "metadata": {},
   "outputs": [],
   "source": [
    "##Quiz: Scripting with Raw Input"
   ]
  },
  {
   "cell_type": "code",
   "execution_count": null,
   "metadata": {},
   "outputs": [],
   "source": []
  },
  {
   "cell_type": "code",
   "execution_count": 25,
   "metadata": {},
   "outputs": [],
   "source": [
    "#Quiz: Generate Messages\n",
    "#Imagine you're a teacher who needs to send a message to each of your students reminding them of their missing assignments and grade in the class. You have each of their names, number of missing assignments, and grades on a spreadsheet and just have to insert them into placeholders in this message you came up with:\n",
    "\n",
    "#Write a script that does the following:\n",
    "\n",
    "#Ask for user input 3 times. Once for a list of names, once for a list of missing assignment counts, and once for a list of grades. Use this input to create lists for names, assignments, and grades.\n",
    "#Use a loop to print the message for each student with the correct values. The potential grade is simply the current grade added to two times the number of missing assignments."
   ]
  },
  {
   "cell_type": "code",
   "execution_count": 11,
   "metadata": {},
   "outputs": [
    {
     "name": "stdout",
     "output_type": "stream",
     "text": [
      "Enter names seperated by commas: chandler bing, phoebe buffay, monica geller, ross geller\n",
      "Enter assignment count seperated by commas: 3,6,0,2\n",
      "Enter grades seperated by comnmas: 81,77,92,88\n"
     ]
    }
   ],
   "source": [
    "names = input(\"Enter names seperated by commas: \").split(\",\")\n",
    "assignments = input(\"Enter assignment count seperated by commas: \").split(\",\")\n",
    "grades = input(\"Enter grades seperated by comnmas: \").split(\",\")"
   ]
  },
  {
   "cell_type": "code",
   "execution_count": 22,
   "metadata": {},
   "outputs": [
    {
     "name": "stdout",
     "output_type": "stream",
     "text": [
      "Hi chandler bing,\n",
      "\n",
      "This is a reminder that you have 3 assignments left to submit before you can graduate. You're current grade is 81 and can increase to 87 if you submit all assignments before the due date.\n",
      "\n",
      "\n",
      "Hi  phoebe buffay,\n",
      "\n",
      "This is a reminder that you have 6 assignments left to submit before you can graduate. You're current grade is 77 and can increase to 89 if you submit all assignments before the due date.\n",
      "\n",
      "\n",
      "Hi  monica geller,\n",
      "\n",
      "This is a reminder that you have 0 assignments left to submit before you can graduate. You're current grade is 92 and can increase to 92 if you submit all assignments before the due date.\n",
      "\n",
      "\n",
      "Hi  ross geller,\n",
      "\n",
      "This is a reminder that you have 2 assignments left to submit before you can graduate. You're current grade is 88 and can increase to 92 if you submit all assignments before the due date.\n",
      "\n",
      "\n"
     ]
    }
   ],
   "source": [
    "message = \"Hi {},\\n\\nThis is a reminder that you have {} assignments left to \\\n",
    "submit before you can graduate. You're current grade is {} and can increase \\\n",
    "to {} if you submit all assignments before the due date.\\n\\n\"\n",
    "\n",
    "                                                                     \n",
    "for name, assignment, grade in zip(names, assignments, grades):\n",
    "    \n",
    "    potential_grade = int(grade) + (2 * int(assignment))\n",
    "    print(message.format(name,assignment,int(grade),potential_grade))"
   ]
  },
  {
   "cell_type": "code",
   "execution_count": null,
   "metadata": {},
   "outputs": [],
   "source": []
  },
  {
   "cell_type": "code",
   "execution_count": 1,
   "metadata": {},
   "outputs": [],
   "source": [
    "#Handling Input Errors\n",
    "#The party_planner function below takes as input a number of party people and cookies and figures out how many cookies each person gets at the party, assuming equitable distribution of cookies. Then, it returns that number along with how many cookies will be left over.\n",
    "\n",
    "#Right now, calling the function with an input of 0 people will cause an error, because it creates a ZeroDivisionError exception. Edit the party_planner function to handle this invalid input. If it runs into this exception, it should print a warning message to the user and request they input a different number of people."
   ]
  },
  {
   "cell_type": "code",
   "execution_count": 3,
   "metadata": {},
   "outputs": [
    {
     "name": "stdout",
     "output_type": "stream",
     "text": [
      "How many cookies are you baking? 23\n",
      "How many people are attending? 0\n",
      "Please enter a number greater than zero for people attending\n",
      "\n",
      "Would you like to party more? (y or n) n\n"
     ]
    }
   ],
   "source": [
    "def party_planner(cookies, people):\n",
    "    leftovers = None\n",
    "    num_each = None\n",
    "    # TODO: Add a try-except block here to\n",
    "    #       make sure no ZeroDivisionError occurs.\n",
    "    try:\n",
    "        num_each = cookies // people\n",
    "        leftovers = cookies % people\n",
    "\n",
    "        \n",
    "    except ZeroDivisionError:\n",
    "        print(\"Please enter a number greater than zero for people attending\")\n",
    "        \n",
    "    return(num_each, leftovers)\n",
    "        \n",
    "        # The main code block is below; do not edit this\n",
    "    \n",
    "lets_party = 'y'\n",
    "while lets_party == 'y':\n",
    "\n",
    "    cookies = int(input(\"How many cookies are you baking? \"))\n",
    "    people = int(input(\"How many people are attending? \"))\n",
    "\n",
    "    cookies_each, leftovers = party_planner(cookies, people)\n",
    "\n",
    "    if cookies_each:  # if cookies_each is not None\n",
    "        message = \"\\nLet's party! We'll have {} people attending, they'll each get to eat {} cookies, and we'll have {} left over.\"\n",
    "        print(message.format(people, cookies_each, leftovers))\n",
    "\n",
    "    lets_party = input(\"\\nWould you like to party more? (y or n) \")"
   ]
  },
  {
   "cell_type": "code",
   "execution_count": null,
   "metadata": {},
   "outputs": [],
   "source": []
  },
  {
   "cell_type": "code",
   "execution_count": 4,
   "metadata": {},
   "outputs": [],
   "source": [
    "#Reading a file"
   ]
  },
  {
   "cell_type": "code",
   "execution_count": 3,
   "metadata": {},
   "outputs": [],
   "source": [
    "f = open('C:/Users/tatenda/projects/python/some_file.txt', 'r')\n",
    "file_data = f.read()\n",
    "f.close()"
   ]
  },
  {
   "cell_type": "code",
   "execution_count": 12,
   "metadata": {},
   "outputs": [],
   "source": [
    "f = open('C:/Users/tatenda/projects/python/some_file.txt', 'w')\n",
    "f.write(\"Hello there!\")\n",
    "f.close()"
   ]
  },
  {
   "cell_type": "code",
   "execution_count": 13,
   "metadata": {},
   "outputs": [],
   "source": [
    "#If you're interested in adding to an existing file, without deleting its content, you should use the append ('a') mode instead of write."
   ]
  },
  {
   "cell_type": "code",
   "execution_count": null,
   "metadata": {},
   "outputs": [],
   "source": []
  },
  {
   "cell_type": "code",
   "execution_count": 6,
   "metadata": {},
   "outputs": [],
   "source": [
    "#Quiz: Flying Circus Cast List\n",
    "#You're going to create a list of the actors who appeared in the television programme Monty Python's Flying Circus.\n",
    "\n",
    "#Write a function called create_cast_list that takes a filename as input and returns a list of actors' names. It will be run on the file flying_circus_cast.txt (this information was collected from imdb.com). Each line of that file consists of an actor's name, a comma, and then some (messy) information about roles they played in the programme. You'll need to extract only the name and add it to a list. You might use the .split() method to process each line.\"\"\"\"\n"
   ]
  },
  {
   "cell_type": "code",
   "execution_count": 7,
   "metadata": {},
   "outputs": [
    {
     "name": "stdout",
     "output_type": "stream",
     "text": [
      "Graham Chapman\n",
      "Eric Idle\n",
      "Terry Jones\n",
      "Michael Palin\n",
      "Terry Gilliam\n",
      "John Cleese\n",
      "Carol Cleveland\n",
      "Ian Davidson\n",
      "John Hughman\n",
      "The Fred Tomlinson Singers\n",
      "Connie Booth\n",
      "Bob Raymond\n",
      "Lyn Ashley\n",
      "Rita Davies\n",
      "Stanley Mason\n",
      "David Ballantyne\n",
      "Donna Reading\n",
      "Peter Brett\n",
      "Maureen Flanagan\n",
      "Katya Wyeth\n",
      "Frank Lester\n",
      "Neil Innes\n",
      "Dick Vosburgh\n",
      "Sandra Richards\n",
      "Julia Breck\n",
      "Nicki Howorth\n",
      "Jimmy Hill\n",
      "Barry Cryer\n",
      "Jeannette Wild\n",
      "Marjorie Wilde\n",
      "Marie Anderson\n",
      "Caron Gardner\n",
      "Nosher Powell\n",
      "Carolae Donoghue\n",
      "Vincent Wong\n",
      "Helena Clayton\n",
      "Nigel Jones\n",
      "Roy Gunson\n",
      "Daphne Davey\n",
      "Stenson Falke\n",
      "Alexander Curry\n",
      "Frank Williams\n",
      "Ralph Wood\n",
      "Rosalind Bailey\n",
      "Marion Mould\n",
      "Sheila Sands\n",
      "Richard Baker\n",
      "Douglas Adams\n",
      "Ewa Aulin\n",
      "Reginald Bosanquet\n",
      "Barbara Lindley\n",
      "Roy Brent\n",
      "Jonas Card\n",
      "Tony Christopher\n",
      "Beulah Hughes\n",
      "Peter Kodak\n",
      "Lulu\n",
      "Jay Neill\n",
      "Graham Skidmore\n",
      "Ringo Starr\n",
      "Fred Tomlinson\n",
      "David Hamilton\n",
      "Suzy Mandel\n",
      "Peter Woods\n"
     ]
    }
   ],
   "source": [
    "def create_cast_list(filename):\n",
    "    cast_list = []\n",
    "    #use with to open the file filename\n",
    "    with open(\"C:/Users/tatenda/projects/python/flying_circus_cast.txt\",\"r\") as f:\n",
    "        \n",
    "    #use the for loop syntax to process each line\n",
    "        for line in f:\n",
    "    #and add the actor name to cast_list\n",
    "            cast_list.append(line.split(\",\")[0])\n",
    "\n",
    "    return cast_list\n",
    "\n",
    "cast_list = create_cast_list('flying_circus_cast.txt')\n",
    "for actor in cast_list:\n",
    "    print(actor)"
   ]
  },
  {
   "cell_type": "code",
   "execution_count": null,
   "metadata": {},
   "outputs": [],
   "source": []
  },
  {
   "cell_type": "code",
   "execution_count": 11,
   "metadata": {},
   "outputs": [],
   "source": [
    "#Quiz: Compute an Exponent\n",
    "#It's your turn to import and use the math module. Use the math module to calculate e to the power of 3. print the answer."
   ]
  },
  {
   "cell_type": "code",
   "execution_count": 12,
   "metadata": {},
   "outputs": [
    {
     "name": "stdout",
     "output_type": "stream",
     "text": [
      "20.085536923187668\n"
     ]
    }
   ],
   "source": [
    "# print e to the power of 3 using the math module\n",
    "import math\n",
    "print(math.exp(3))"
   ]
  },
  {
   "cell_type": "code",
   "execution_count": null,
   "metadata": {},
   "outputs": [],
   "source": []
  },
  {
   "cell_type": "code",
   "execution_count": 29,
   "metadata": {},
   "outputs": [],
   "source": [
    "#Quiz: Password Generator\n",
    "#Write a function called generate_password that selects three random words from the list of words word_list and concatenates them into a single string. Your function should not accept any arguments and should reference the global variable word_list to build the password."
   ]
  },
  {
   "cell_type": "code",
   "execution_count": 30,
   "metadata": {},
   "outputs": [
    {
     "name": "stdout",
     "output_type": "stream",
     "text": [
      "whatintonothing\n"
     ]
    }
   ],
   "source": [
    "#Use an import statement at the top\n",
    "\n",
    "import random\n",
    "\n",
    "#word_file = \"words.txt\"\n",
    "word_list = []\n",
    "\n",
    "#fill up the word_list\n",
    "with open(\"C:/Users/tatenda/projects/python/words.txt\",\"r\") as words:\n",
    "\tfor line in words:\n",
    "\t\t# remove white space and make everything lowercase\n",
    "\t\tword = line.strip().lower()\n",
    "\t\t# don't include words that are too long or too short\n",
    "\t\tif 3 < len(word) < 8:\n",
    "\t\t\tword_list.append(word)\n",
    "\n",
    "# Add your function generate_password here\n",
    "# It should return a string consisting of three random words \n",
    "# concatenated together without spaces\n",
    "def generate_password(sentence):\n",
    "    return random.choice(sentence) + random.choice(sentence) + random.choice(sentence)\n",
    "\n",
    "\n",
    "# test your function\n",
    "print(generate_password(word_list))"
   ]
  },
  {
   "cell_type": "code",
   "execution_count": 24,
   "metadata": {},
   "outputs": [],
   "source": []
  },
  {
   "cell_type": "code",
   "execution_count": 31,
   "metadata": {},
   "outputs": [
    {
     "name": "stdout",
     "output_type": "stream",
     "text": [
      "whatwhattired\n"
     ]
    }
   ],
   "source": [
    "#Use an import statement at the top\n",
    "\n",
    "from random import choice\n",
    "\n",
    "#word_file = \"words.txt\"\n",
    "word_list = []\n",
    "\n",
    "#fill up the word_list\n",
    "with open(\"C:/Users/tatenda/projects/python/words.txt\",\"r\") as words:\n",
    "\tfor line in words:\n",
    "\t\t# remove white space and make everything lowercase\n",
    "\t\tword = line.strip().lower()\n",
    "\t\t# don't include words that are too long or too short\n",
    "\t\tif 3 < len(word) < 8:\n",
    "\t\t\tword_list.append(word)\n",
    "\n",
    "# Add your function generate_password here\n",
    "# It should return a string consisting of three random words \n",
    "# concatenated together without spaces\n",
    "def generate_password(sentence):\n",
    "    return choice(sentence) + choice(sentence) + choice(sentence)\n",
    "\n",
    "\n",
    "# test your function\n",
    "print(generate_password(word_list))"
   ]
  },
  {
   "cell_type": "code",
   "execution_count": null,
   "metadata": {},
   "outputs": [],
   "source": [
    "#Testing third-party package installations"
   ]
  },
  {
   "cell_type": "code",
   "execution_count": 35,
   "metadata": {},
   "outputs": [
    {
     "name": "stdout",
     "output_type": "stream",
     "text": [
      "Requirement already satisfied: pytz in c:\\users\\tatenda\\appdata\\local\\continuum\\anaconda3\\lib\\site-packages (2018.5)\n"
     ]
    }
   ],
   "source": [
    "import sys\n",
    "!{sys.executable} -m pip install pytz"
   ]
  },
  {
   "cell_type": "code",
   "execution_count": null,
   "metadata": {},
   "outputs": [],
   "source": []
  },
  {
   "cell_type": "code",
   "execution_count": 36,
   "metadata": {},
   "outputs": [],
   "source": [
    "from datetime import datetime\n",
    "import pytz"
   ]
  },
  {
   "cell_type": "code",
   "execution_count": 47,
   "metadata": {},
   "outputs": [
    {
     "name": "stdout",
     "output_type": "stream",
     "text": [
      "2019-07-11 10:30:24.438682+00:00\n",
      "2019-07-11 12:30:24.438682+02:00\n"
     ]
    }
   ],
   "source": [
    "utc = pytz.utc\n",
    "ist = pytz.timezone(\"Africa/Harare\")\n",
    "\n",
    "now = datetime.now(tz = utc)\n",
    "ist_now = now.astimezone(ist)\n",
    "\n",
    "print(now)\n",
    "print(ist_now)"
   ]
  },
  {
   "cell_type": "code",
   "execution_count": null,
   "metadata": {},
   "outputs": [],
   "source": []
  }
 ],
 "metadata": {
  "kernelspec": {
   "display_name": "Python 3",
   "language": "python",
   "name": "python3"
  },
  "language_info": {
   "codemirror_mode": {
    "name": "ipython",
    "version": 3
   },
   "file_extension": ".py",
   "mimetype": "text/x-python",
   "name": "python",
   "nbconvert_exporter": "python",
   "pygments_lexer": "ipython3",
   "version": "3.7.0"
  }
 },
 "nbformat": 4,
 "nbformat_minor": 2
}
