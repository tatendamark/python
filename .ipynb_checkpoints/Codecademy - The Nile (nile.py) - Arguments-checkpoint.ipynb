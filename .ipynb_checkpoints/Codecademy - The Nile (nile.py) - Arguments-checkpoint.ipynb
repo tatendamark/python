{
 "cells": [
  {
   "cell_type": "code",
   "execution_count": null,
   "metadata": {},
   "outputs": [],
   "source": [
    "from math import sin, cos, atan2, sqrt\n",
    "\n",
    "def get_distance(from_lat, from_long, to_lat, to_long):\n",
    "  dlon = to_long - from_long\n",
    "  dlat = from_lat - to_lat\n",
    "  a = (sin(dlat/2)) ** 2 + cos(from_lat) * cos(to_lat) * (sin(dlon/2)) ** 2\n",
    "  c = 2 * atan2(sqrt(a), sqrt(1-a))\n",
    "  distance = a * c\n",
    "  return distance\n",
    "\n",
    "SHIPPING_PRICES = {\n",
    "  'Ground': 1,\n",
    "  'Priority': 1.6,\n",
    "  'Overnight': 2.3,\n",
    "}\n",
    "\n",
    "def format_price(price):\n",
    "  return \"${0:.2f}\".format(price)\n",
    "\n"
   ]
  }
 ],
 "metadata": {
  "kernelspec": {
   "display_name": "Python 3",
   "language": "python",
   "name": "python3"
  },
  "language_info": {
   "codemirror_mode": {
    "name": "ipython",
    "version": 3
   },
   "file_extension": ".py",
   "mimetype": "text/x-python",
   "name": "python",
   "nbconvert_exporter": "python",
   "pygments_lexer": "ipython3",
   "version": "3.7.0"
  }
 },
 "nbformat": 4,
 "nbformat_minor": 2
}
