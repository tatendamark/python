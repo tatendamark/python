{
 "cells": [
  {
   "cell_type": "code",
   "execution_count": 1,
   "metadata": {},
   "outputs": [
    {
     "data": {
      "text/plain": [
       "'Games of Chance\\nOverview\\nThis project is slightly different than others you have encountered thus far on Codecademy. Instead of a step-by-step tutorial, this project contains a series of open-ended requirements which describe the project you’ll be building. There are many possible ways to correctly fulfill all of these requirements, and you should expect to use the internet, Codecademy, and other resources when you encounter a problem that you cannot easily solve.\\n\\nProject Goals\\nYou will work to write several functions that simulate games of chance. Each one of these functions will use a number of parameters, random number generation, conditionals, and return statements.'"
      ]
     },
     "execution_count": 1,
     "metadata": {},
     "output_type": "execute_result"
    }
   ],
   "source": [
    "\"\"\"Games of Chance\n",
    "Overview\n",
    "This project is slightly different than others you have encountered thus far on Codecademy. Instead of a step-by-step tutorial, this project contains a series of open-ended requirements which describe the project you’ll be building. There are many possible ways to correctly fulfill all of these requirements, and you should expect to use the internet, Codecademy, and other resources when you encounter a problem that you cannot easily solve.\n",
    "\n",
    "Project Goals\n",
    "You will work to write several functions that simulate games of chance. Each one of these functions will use a number of parameters, random number generation, conditionals, and return statements.\"\"\""
   ]
  },
  {
   "cell_type": "code",
   "execution_count": 26,
   "metadata": {},
   "outputs": [
    {
     "name": "stdout",
     "output_type": "stream",
     "text": [
      "I call: Heads\n",
      "I bet: 14\n",
      "You started the round on 100 dollars\n",
      "Coin landed on Tails\n",
      "You lost and now have 86 in total.\n"
     ]
    }
   ],
   "source": [
    "import random\n",
    "\n",
    "money = 100\n",
    "\n",
    "#Write your game of chance functions here\n",
    "def coin_toss(coin_call, coin_bet):\n",
    "  #call = input(\"I call: \")\n",
    "  #bet = int(input(\"I bet: \"))\n",
    "  print (\"Coin toss game\\n \")\n",
    "  global money\n",
    "  print(\"You started the round on \"+ str(money) + \" dollars\")\n",
    "  \n",
    "\n",
    "  #print (coin_call)\n",
    "  #print (coin_bet)\n",
    "  \n",
    "  if random.randint(1,2) == 1:\n",
    "    coin_landed_on = \"HEADS\"\n",
    "  else:\n",
    "    coin_landed_on = \"TAILS\"\n",
    "  \n",
    "  print (\"Coin landed on \" + coin_landed_on.upper())\n",
    "  \n",
    "  if coin_call == coin_landed_on:\n",
    "    money += coin_bet\n",
    "    win_lose = \"You won\"\n",
    "  else:\n",
    "    money -= coin_bet\n",
    "    win_lose = \"You lost\"\n",
    "    \n",
    "  \n",
    "  #return money, win_lose\n",
    "\t\n",
    "  print (\"Your call was \" + coin_call + \" and you bet \" + str(coin_bet) + \". \" + win_lose + \" and now have \" + str(money) + \" in total.\")\n",
    "    \n",
    "#Call your game of chance functions here\n",
    "\n",
    "#c_call = \"Heads\"\n",
    "#c_bet = 20\n",
    "#print(\"You called \" + c_call + \" and bet \" + str(c_bet)\n",
    "\n",
    "coin_toss(input(\"Head or Tails. You called: \").upper(), int(input(\"You bet: \")))"
   ]
  },
  {
   "cell_type": "code",
   "execution_count": null,
   "metadata": {},
   "outputs": [],
   "source": []
  },
  {
   "cell_type": "code",
   "execution_count": 36,
   "metadata": {},
   "outputs": [
    {
     "name": "stdout",
     "output_type": "stream",
     "text": [
      "Head or Tails. You called: HeADs\n",
      "You bet: 20\n",
      "Coin toss game\n",
      " \n",
      "You started the round on 100 dollars\n",
      "Coin landed on HEADS\n",
      "Your call was HEADS and you bet 20. You won and now have 120 in total.\n",
      "Odd or Even. You called: EvEN\n",
      "You bet: 5\n",
      "\n",
      "Cho-Han game\n",
      " \n",
      "You started the round on 120 dollars\n",
      "You threw a 3 and a 6. Therefore, the sum of your throw is 9\n",
      "Dice total is ODD\n",
      "Your call was EVEN and you bet 5. You lost and now have 115 in total.\n"
     ]
    }
   ],
   "source": [
    "money = 100\n",
    "\n",
    "#Write your game of chance functions here\n",
    "def dice_toss(dice_call, dice_bet):\n",
    "  #call = input(\"I call: \")\n",
    "  #bet = int(input(\"I bet: \"))\n",
    "  print (\"\\nCho-Han game\\n \")\n",
    "  global money\n",
    "  print(\"You started the round on \"+ str(money) + \" dollars\")\n",
    "  \n",
    "\n",
    "  #print (coin_call)\n",
    "  #print (coin_bet)\n",
    "  \n",
    "  first_die = random.randint(1,6)\n",
    "  second_die = random.randint(1,6)\n",
    "  total_dice = first_die + second_die\n",
    "  print (\"You threw a \" + str(first_die) + \" and a \" + str(second_die) + \". Therefore, the sum of your throw is \" + str(total_dice))\n",
    "  \n",
    "  if total_dice % 2 == 0:\n",
    "    total_dice_is = \"EVEN\"\n",
    "  else:\n",
    "    total_dice_is = \"ODD\"\n",
    "  \n",
    "  print (\"Dice total is \" + total_dice_is)\n",
    "  \n",
    "  if dice_call == total_dice_is:\n",
    "    money += dice_bet\n",
    "    win_lose = \"You won\"\n",
    "  else:\n",
    "    money -= dice_bet\n",
    "    win_lose = \"You lost\"\n",
    "    \n",
    "  \n",
    "  #return money, win_lose\n",
    "\t\n",
    "  print (\"Your call was \" + dice_call + \" and you bet \" + str(dice_bet) + \". \" + win_lose + \" and now have \" + str(money) + \" in total.\")\n",
    "    \n",
    "#Call your game of chance functions here\n",
    "          \n",
    "#d_call = \"Odd\"\n",
    "#d_bet = 5\n",
    "#d_bet_call = print(\"You called \" + d_call + \" and bet \" + str(d_bet)\n",
    "\n",
    "dice_toss(input(\"Odd or Even. You called: \").upper(), int(input(\"You bet: \")))"
   ]
  },
  {
   "cell_type": "code",
   "execution_count": null,
   "metadata": {},
   "outputs": [],
   "source": []
  },
  {
   "cell_type": "code",
   "execution_count": 41,
   "metadata": {},
   "outputs": [
    {
     "name": "stdout",
     "output_type": "stream",
     "text": [
      "Player 1 bet: 100\n",
      "Player 2 bet: 50\n",
      "\n",
      "Two-player card game\n",
      " \n",
      "Player 1 started the round on 100 dollars. Player 2 started the round on 100 dollars. \n",
      "Player 1's card number is 3 and Player 1's bet is 100. Player 2's card number is 2 and Player 2's bet is 50.\n",
      "Winner is Player 1. Player 1 now has 200 and Player 2 now has 50\n"
     ]
    }
   ],
   "source": [
    "player2_money = 100\n",
    "player1_money = 100\n",
    "def card_picked(player1_bet, player2_bet):\n",
    "  #call = input(\"I call: \")\n",
    "  #bet = int(input(\"I bet: \"))\n",
    "  print (\"\\nTwo-player card game\\n \")\n",
    "  global player1_money, player2_money\n",
    "  print(\"Player 1 started the round on \"+ str(player1_money) + \" dollars. \" + \"Player 2 started the round on \"+ str(player2_money) + \" dollars. \")\n",
    "  \n",
    "\n",
    "  #print (coin_call)\n",
    "  #print (coin_bet)\n",
    "  \n",
    "  player1_card = random.randint(1,10)\n",
    "  player2_card = random.randint(1,10)\n",
    "  \n",
    "  print (\"Player 1\\'s card number is \" + str(player1_card) + \" and Player 1\\'s bet is \" + str(player1_bet) + \". Player 2\\'s card number is \" + str(player2_card) + \" and Player 2\\'s bet is \" + str(player2_bet) + \".\")\n",
    "  \n",
    "  if player1_card > player2_card:\n",
    "    winner = \"Player 1\"\n",
    "    player1_money += player1_bet\n",
    "    player2_money -= player2_bet\n",
    "    print (\"Winner is \" + winner + \". Player 1 now has \" + str(player1_money) + \" and Player 2 now has \" + str(player2_money))\n",
    "  if player2_card > player1_card:\n",
    "    winner = \"Player 2\"\n",
    "    player2_money += player2_bet\n",
    "    player1_money -= player1_bet\n",
    "    print (\"Winner is \" + winner + \". Player 1 now has \" + str(player1_money) + \" and Player 2 now has \" + str(player2_money))\n",
    "  if player1_card == player2_card:\n",
    "    winner = \"Player 1 and Player 2\"\n",
    "    player1_money += 0\n",
    "    player2_money += 0\n",
    "    print (\"Winner is \" + winner + \". It's a tie. Replay game.\")\n",
    "  \n",
    "  \n",
    "#Call your game of chance functions here\n",
    "\n",
    "#P1_bet = 20\n",
    "#P2_bet = 50\n",
    "#d_bet_call = print(\"You called \" + d_call + \" and bet \" + str(d_bet)\n",
    "\n",
    "card_picked(int(input(\"Player 1 bet: \")), int(input(\"Player 2 bet: \")))\n"
   ]
  },
  {
   "cell_type": "code",
   "execution_count": null,
   "metadata": {},
   "outputs": [],
   "source": []
  },
  {
   "cell_type": "code",
   "execution_count": 68,
   "metadata": {},
   "outputs": [
    {
     "name": "stdout",
     "output_type": "stream",
     "text": [
      "\n",
      "Game of roulette\n",
      " \n",
      "You started the round on 100 dollars\n",
      "Ball did not land on 0 or 00\n",
      "Ball landed on 17\n",
      "Your call was 12 and you bet 20. You lost and now have 80 in total.\n",
      "\n",
      "Game of roulette\n",
      " \n",
      "You started the round on 80 dollars\n",
      "Ball landed on EVEN\n",
      "Your call was ODD and you bet 50. You lost and now have 30 in total.\n"
     ]
    }
   ],
   "source": [
    "import random \n",
    "\n",
    "roulette_money = 100\n",
    "\n",
    "#Write your game of chance functions here\n",
    "def roulette_pick(bet_decision_is_num, ball_call, ball_bet):\n",
    "  #call = input(\"I call: \")\n",
    "  #bet = int(input(\"I bet: \"))\n",
    "    print (\"\\nGame of roulette\\n \")\n",
    "    global roulette_money\n",
    "    print(\"You started the round on \"+ str(roulette_money) + \" dollars\")\n",
    "    ball_landed_on_num = random.randint(-1,36)\n",
    "    ball_landed_on_odd_even = random.randint(1,2)\n",
    "\n",
    "  #print (coin_call)\n",
    "  #print (coin_bet)\n",
    "    if bet_decision_is_num == \"NO\":\n",
    "       # ball_landed_on_odd_even = random.randint(1,2)\n",
    "        if ball_landed_on_odd_even == 1:\n",
    "            ball_landed_on = \"EVEN\"\n",
    "            print (\"Ball landed on \" + ball_landed_on)\n",
    "      \n",
    "        if ball_landed_on_odd_even == 2:\n",
    "            ball_landed_on = \"ODD\"\n",
    "      \n",
    "            print (\"Ball landed on \" + ball_landed_on)\n",
    "    \n",
    "        if ball_call == ball_landed_on:\n",
    "            roulette_money += ball_bet\n",
    "            win_lose = \"You won\"\n",
    "        if ball_call != ball_landed_on:\n",
    "            roulette_money -= ball_bet\n",
    "            win_lose = \"You lost\"\n",
    "    \n",
    "    #print (\"Your call was \" + ball_call + \" and you bet \" + str(ball_bet) + \". \" + win_lose + \" and now have \" + str(roulette_money) + \" in total.\")    \n",
    "    \n",
    "    \n",
    "    else:\n",
    "        #ball_landed_on_num = random.randint(-1,36)\n",
    "        if ball_landed_on_num == 0:\n",
    "            print(\"Ball landed on 0\")\n",
    "            roulette_money -= ball_bet\n",
    "            win_lose = \"You lost\"\n",
    "        if ball_landed_on_num == -1:\n",
    "            print(\"Ball landed on 00\")\n",
    "            roulette_money -= ball_bet\n",
    "            win_lose = \"You lost\"\n",
    "        if ball_landed_on_num > 0 and ball_call == ball_landed_on_num:\n",
    "            print(\"Ball did not land on 0 or 00\")\n",
    "            roulette_money += ball_bet\n",
    "            win_lose = \"You won\"\n",
    "            print (\"Ball landed on \" + str(ball_landed_on_num))\n",
    "    \n",
    "        if ball_landed_on_num > 0 and ball_call != ball_landed_on_num:\n",
    "            print(\"Ball did not land on 0 or 00\")\n",
    "            roulette_money -= ball_bet\n",
    "            win_lose = \"You lost\"\n",
    "            print (\"Ball landed on \" + str(ball_landed_on_num))\n",
    "        \n",
    "    print (\"Your call was \" + str(ball_call) + \" and you bet \" + str(ball_bet) + \". \" + win_lose + \" and now have \" + str(roulette_money) + \" in total.\")    \n",
    "  \n",
    "#Call your game of chance functions here\n",
    "\n",
    "r_decision_num = \"Yes\"\n",
    "r_call = 12\n",
    "r_bet = 20\n",
    "#print(\"You called \" + c_call + \" and bet \" + str(c_bet)\n",
    "\n",
    "roulette_pick(r_decision_num, r_call, r_bet)\n",
    "\n",
    "r2_decision_num = \"NO\"\n",
    "r2_call = \"ODD\"\n",
    "r2_bet = 50\n",
    "#print(\"You called \" + c_call + \" and bet \" + str(c_bet)\n",
    "\n",
    "roulette_pick(r2_decision_num, r2_call, r2_bet)"
   ]
  },
  {
   "cell_type": "code",
   "execution_count": null,
   "metadata": {},
   "outputs": [],
   "source": []
  },
  {
   "cell_type": "code",
   "execution_count": 1,
   "metadata": {},
   "outputs": [
    {
     "data": {
      "text/plain": [
       "'Call each of your functions at least once. Below is an example of betting $10 on a coin flip and updating the amount of money you have based on whether you win or lose :\\n\\nmoney += coin_flip(\"Heads\", 10)'"
      ]
     },
     "execution_count": 1,
     "metadata": {},
     "output_type": "execute_result"
    }
   ],
   "source": [
    "\"\"\"Call each of your functions at least once. Below is an example of betting $10 on a coin flip and updating the amount of money you have based on whether you win or lose :\n",
    "\n",
    "money += coin_flip(\"Heads\", 10)\"\"\""
   ]
  },
  {
   "cell_type": "code",
   "execution_count": null,
   "metadata": {},
   "outputs": [],
   "source": []
  },
  {
   "cell_type": "code",
   "execution_count": 26,
   "metadata": {},
   "outputs": [
    {
     "name": "stdout",
     "output_type": "stream",
     "text": [
      "You started the round on 100 dollars\n",
      "Coin toss game\n",
      " \n",
      "-10\n",
      "110\n",
      "Your call was HEADS and you bet 10.\n"
     ]
    }
   ],
   "source": [
    "import random\n",
    "\n",
    "money = 100\n",
    "print(\"You started the round on \"+ str(money) + \" dollars\")\n",
    "\n",
    "print (\"Coin toss game\\n \")\n",
    "#Write your game of chance functions here\n",
    "def coin_toss(coin_call, coin_bet):\n",
    "  #call = input(\"I call: \")\n",
    "  #bet = int(input(\"I bet: \"))\n",
    "  #print (\"Coin toss game\\n \")\n",
    "  global money\n",
    "  #print(\"You started the round on \"+ str(money) + \" dollars\")\n",
    "  \n",
    "\n",
    "  #print (coin_call)\n",
    "  #print (coin_bet)\n",
    "  \n",
    "  if random.randint(1,2) == 1:\n",
    "    coin_landed_on = \"HEADS\"\n",
    "  else:\n",
    "    coin_landed_on = \"TAILS\"\n",
    "  \n",
    " \n",
    "\n",
    " #print (\"Coin landed on \" + coin_landed_on.upper())\n",
    "  \n",
    "  if coin_call == coin_landed_on:\n",
    "    #money += coin_bet\n",
    "    win_lose = \"You won\"\n",
    "    amount_won_lost = coin_bet\n",
    "  else:\n",
    "    #money -= coin_bet\n",
    "    win_lose = \"You lost\"\n",
    "    amount_won_lost = -coin_bet\n",
    "    \n",
    "  return amount_won_lost\n",
    "\t\n",
    "  #print (\"Your call was \" + coin_call + \" and you bet \" + str(coin_bet) + \". \" + win_lose + \" and now have \" + str(money) + \" in total.\")\n",
    "    \n",
    "#Call your game of chance functions here\n",
    "\n",
    "c_call = \"HEADS\"\n",
    "c_bet = 10\n",
    "\n",
    "#print(\"You called \" + c_call + \" and bet \" + str(c_bet)\n",
    "\n",
    "print(coin_toss(c_call,c_bet))\n",
    "money += coin_toss(c_call,c_bet)\n",
    "print (money)\n",
    "\n",
    "\n",
    "#print (\"Coin landed on \" + coin_landed_on.upper())\n",
    "print (\"Your call was \" + c_call + \" and you bet \" + str(c_bet) + \".\")"
   ]
  },
  {
   "cell_type": "code",
   "execution_count": null,
   "metadata": {},
   "outputs": [],
   "source": []
  },
  {
   "cell_type": "code",
   "execution_count": null,
   "metadata": {},
   "outputs": [],
   "source": []
  }
 ],
 "metadata": {
  "kernelspec": {
   "display_name": "Python 3",
   "language": "python",
   "name": "python3"
  },
  "language_info": {
   "codemirror_mode": {
    "name": "ipython",
    "version": 3
   },
   "file_extension": ".py",
   "mimetype": "text/x-python",
   "name": "python",
   "nbconvert_exporter": "python",
   "pygments_lexer": "ipython3",
   "version": "3.7.0"
  }
 },
 "nbformat": 4,
 "nbformat_minor": 2
}
