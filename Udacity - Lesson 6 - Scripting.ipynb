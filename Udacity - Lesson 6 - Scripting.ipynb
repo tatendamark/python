{
 "cells": [
  {
   "cell_type": "code",
   "execution_count": 24,
   "metadata": {},
   "outputs": [],
   "source": [
    "##Quiz: Scripting with Raw Input"
   ]
  },
  {
   "cell_type": "code",
   "execution_count": null,
   "metadata": {},
   "outputs": [],
   "source": []
  },
  {
   "cell_type": "code",
   "execution_count": 25,
   "metadata": {},
   "outputs": [],
   "source": [
    "#Quiz: Generate Messages\n",
    "#Imagine you're a teacher who needs to send a message to each of your students reminding them of their missing assignments and grade in the class. You have each of their names, number of missing assignments, and grades on a spreadsheet and just have to insert them into placeholders in this message you came up with:\n",
    "\n",
    "#Write a script that does the following:\n",
    "\n",
    "#Ask for user input 3 times. Once for a list of names, once for a list of missing assignment counts, and once for a list of grades. Use this input to create lists for names, assignments, and grades.\n",
    "#Use a loop to print the message for each student with the correct values. The potential grade is simply the current grade added to two times the number of missing assignments."
   ]
  },
  {
   "cell_type": "code",
   "execution_count": 11,
   "metadata": {},
   "outputs": [
    {
     "name": "stdout",
     "output_type": "stream",
     "text": [
      "Enter names seperated by commas: chandler bing, phoebe buffay, monica geller, ross geller\n",
      "Enter assignment count seperated by commas: 3,6,0,2\n",
      "Enter grades seperated by comnmas: 81,77,92,88\n"
     ]
    }
   ],
   "source": [
    "names = input(\"Enter names seperated by commas: \").split(\",\")\n",
    "assignments = input(\"Enter assignment count seperated by commas: \").split(\",\")\n",
    "grades = input(\"Enter grades seperated by comnmas: \").split(\",\")"
   ]
  },
  {
   "cell_type": "code",
   "execution_count": 22,
   "metadata": {},
   "outputs": [
    {
     "name": "stdout",
     "output_type": "stream",
     "text": [
      "Hi chandler bing,\n",
      "\n",
      "This is a reminder that you have 3 assignments left to submit before you can graduate. You're current grade is 81 and can increase to 87 if you submit all assignments before the due date.\n",
      "\n",
      "\n",
      "Hi  phoebe buffay,\n",
      "\n",
      "This is a reminder that you have 6 assignments left to submit before you can graduate. You're current grade is 77 and can increase to 89 if you submit all assignments before the due date.\n",
      "\n",
      "\n",
      "Hi  monica geller,\n",
      "\n",
      "This is a reminder that you have 0 assignments left to submit before you can graduate. You're current grade is 92 and can increase to 92 if you submit all assignments before the due date.\n",
      "\n",
      "\n",
      "Hi  ross geller,\n",
      "\n",
      "This is a reminder that you have 2 assignments left to submit before you can graduate. You're current grade is 88 and can increase to 92 if you submit all assignments before the due date.\n",
      "\n",
      "\n"
     ]
    }
   ],
   "source": [
    "message = \"Hi {},\\n\\nThis is a reminder that you have {} assignments left to \\\n",
    "submit before you can graduate. You're current grade is {} and can increase \\\n",
    "to {} if you submit all assignments before the due date.\\n\\n\"\n",
    "\n",
    "                                                                     \n",
    "for name, assignment, grade in zip(names, assignments, grades):\n",
    "    \n",
    "    potential_grade = int(grade) + (2 * int(assignment))\n",
    "    print(message.format(name,assignment,int(grade),potential_grade))"
   ]
  },
  {
   "cell_type": "code",
   "execution_count": null,
   "metadata": {},
   "outputs": [],
   "source": [
    "\n",
    "\n",
    "Enter names seperated by commas: chandler bing, phoebe buffay, monica geller, ross geller\n",
    "Enter assignment count seperated by commas: 3,6,0,2\n",
    "Enter grades seperated by comnmas: 81,77,92,88"
   ]
  }
 ],
 "metadata": {
  "kernelspec": {
   "display_name": "Python 3",
   "language": "python",
   "name": "python3"
  },
  "language_info": {
   "codemirror_mode": {
    "name": "ipython",
    "version": 3
   },
   "file_extension": ".py",
   "mimetype": "text/x-python",
   "name": "python",
   "nbconvert_exporter": "python",
   "pygments_lexer": "ipython3",
   "version": "3.7.0"
  }
 },
 "nbformat": 4,
 "nbformat_minor": 2
}
