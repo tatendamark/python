{
 "cells": [
  {
   "cell_type": "code",
   "execution_count": 1,
   "metadata": {},
   "outputs": [
    {
     "data": {
      "text/plain": [
       "'Basta Fazoolin\\'\\nYou’ve started position as the lead programmer for the family-style Italian restaurant Basta Fazoolin’ with My Heart. The restaurant has been doing fantastically and seen a lot of growth lately. You’ve been hired to keep things organized.\\n\\nIf you get stuck during this project or would like to see an experienced developer work through it, click “Get Help“ to see a project walkthrough video.\\n\\nTasks\\n0/26Complete\\nMark the tasks as complete by checking them off\\nMaking the Menus\\n1.\\nAt Basta Fazoolin’ with my Heart our motto is simple: when you’re here with family, that’s great! We have four different menus: brunch, early-bird, dinner, and kids.\\n\\nCreate a Menu class .\\n\\n2.\\nGive Menu a constructor with the five parameters self, name, items, start_time, and end_time.\\n\\n3.\\nLet’s create our first menu: brunch. Brunch is served from 11am to 4pm. The following items are sold during brunch:\\n\\n{\\n  \\'pancakes\\': 7.50, \\'waffles\\': 9.00, \\'burger\\': 11.00, \\'home fries\\': 4.50, \\'coffee\\': 1.50, \\'espresso\\': 3.00, \\'tea\\': 1.00, \\'mimosa\\': 10.50, \\'orange juice\\': 3.50\\n}\\n4.\\nLet’s create our second menu item early_bird. Early-bird Dinners are served from 3pm to 6pm. The following items are available during the early-bird menu:\\n\\n{\\n  \\'salumeria plate\\': 8.00, \\'salad and breadsticks (serves 2, no refills)\\': 14.00, \\'pizza with quattro formaggi\\': 9.00, \\'duck ragu\\': 17.50, \\'mushroom ravioli (vegan)\\': 13.50, \\'coffee\\': 1.50, \\'espresso\\': 3.00,\\n}\\n5.\\nLet’s create our third menu, dinner. Dinner is served from 5pm to 11pm. The following items are available for dinner:\\n\\n{\\n  \\'crostini with eggplant caponata\\': 13.00, \\'ceaser salad\\': 16.00, \\'pizza with quattro formaggi\\': 11.00, \\'duck ragu\\': 19.50, \\'mushroom ravioli (vegan)\\': 13.50, \\'coffee\\': 2.00, \\'espresso\\': 3.00,\\n}\\n6.\\nAnd let’s create our last menu, kids. The kids menu is available from 11am until 9pm. The following items are available on the kids menu.\\n\\n{\\n  \\'chicken nuggets\\': 6.50, \\'fusilli with wild mushrooms\\': 12.00, \\'apple juice\\': 3.00\\n}\\n7.\\nGive our Menu class a string representation method that will tell you the name of the menu. Also, indicate in this representation when the menu is available.\\n\\n8.\\nTry out our string representation. If you call print(brunch) it should print out something like the following:\\n\\nbrunch menu available from 11am to 4pm\\n9.\\nGive Menu a method .calculate_bill() that has two parameters: self, and purchased_items, a list of the names of purchased items.\\n\\nHave calculate_bill return the total price of a purchase consisiting of all the items in purchased_items.\\n\\n10.\\nTest out Menu.calculate_bill(). We have a breakfast order for one order of pancakes, one order of home fries, and one coffee. Pass that into brunch.calculate_bill() and print out the price.\\n\\n11.\\nWhat about an early-bird purchase? Our last guests ordered the salumeria plate and the vegan mushroom ravioli. Calculate the bill with .caluclate_bill().\\n\\nCreating the Franchises\\n12.\\nBasta Fazoolin’ with my Heart has seen tremendous success with the family market, which is fantastic because when you’re at Basta Fazoolin’ with my Heart with family, that’s great!\\n\\nWe’ve decided to create more than one restaurant to offer our fantastic menus, services, and ambience around the country.\\n\\nFirst, let’s create a Franchise class.\\n\\n13.\\nGive the Franchise class a constructor. Take in an address, and assign it to self.address. Also take in a list of menus and assign it to self.menus.\\n\\n14.\\nLet’s create our first two franchises! Our flagship store is located at \"1232 West End Road\" and our new installment is located at \"12 East Mulberry Street\". Pass in all four menus along with these addresses to define flagship_store and new_installment.\\n\\n15.\\nGive our Franchises a string represenation so that we’ll be able to tell them apart. If we print out a Franchise it should tell us the address of the restaurant.\\n\\n16.\\nLet’s tell our customers what they can order! Give Franchise an .available_menus() method that takes in a time parameter and returns a list of the Menu objects that are available at that time.\\n\\n17.\\nLet’s test out our .available_menus() method! Call it with 12 noon as an argument and print out the results.\\n\\n18.\\nLet’s do another test! If we call .available_menus() with 5pm as an argument and print out the results.\\n\\nCreating Businesses!\\n19.\\nSince we’ve been so successful building out a branded chain of restaurants, we’ve decided to diversify. We’re going to create a restaurant that sells arepas!\\n\\nFirst let’s define a Business class.\\n\\n20.\\nGive Business a constructor. A Business needs a name and a list of franchises.\\n\\n21.\\nLet’s create our first Business. The name is \"Basta Fazoolin\\' with my Heart\" and the two franchises are flagship_store and new_installment.\\n\\n22.\\nBefore we create our new business, we’ll need a Franchise and before our Franchise we’ll need a menu. The items for our Take a’ Arepa available from 10am until 8pm are the following:\\n\\n{\\n  \\'arepa pabellon\\': 7.00, \\'pernil arepa\\': 8.50, \\'guayanes arepa\\': 8.00, \\'jamon arepa\\': 7.50\\n}\\nSave this to a variable called arepas_menu.\\n\\n23.\\nNext let’s create our first Take a’ Arepa franchise! Our new restaurant is located at \"189 Fitzgerald Avenue\". Save the Franchise object to a variable called arepas_place.\\n\\n24.\\nNow let’s make our new Business! The business is called \"Take a\\' Arepa\"!\\n\\n25.\\nCongrats! You created a system of classes that help structure your code and perform all business requirements you need. Whenever we need a new feature we’ll have the well-organized code required to make developing and shipping it easy.\\n\\n26.\\nIf you are stuck on the project or would like to see an experienced developer work through the project, watch the following project walkthrough video!'"
      ]
     },
     "execution_count": 1,
     "metadata": {},
     "output_type": "execute_result"
    }
   ],
   "source": [
    "\"\"\"Basta Fazoolin'\n",
    "You’ve started position as the lead programmer for the family-style Italian restaurant Basta Fazoolin’ with My Heart. The restaurant has been doing fantastically and seen a lot of growth lately. You’ve been hired to keep things organized.\n",
    "\n",
    "If you get stuck during this project or would like to see an experienced developer work through it, click “Get Help“ to see a project walkthrough video.\n",
    "\n",
    "Tasks\n",
    "0/26Complete\n",
    "Mark the tasks as complete by checking them off\n",
    "Making the Menus\n",
    "1.\n",
    "At Basta Fazoolin’ with my Heart our motto is simple: when you’re here with family, that’s great! We have four different menus: brunch, early-bird, dinner, and kids.\n",
    "\n",
    "Create a Menu class .\n",
    "\n",
    "2.\n",
    "Give Menu a constructor with the five parameters self, name, items, start_time, and end_time.\n",
    "\n",
    "3.\n",
    "Let’s create our first menu: brunch. Brunch is served from 11am to 4pm. The following items are sold during brunch:\n",
    "\n",
    "{\n",
    "  'pancakes': 7.50, 'waffles': 9.00, 'burger': 11.00, 'home fries': 4.50, 'coffee': 1.50, 'espresso': 3.00, 'tea': 1.00, 'mimosa': 10.50, 'orange juice': 3.50\n",
    "}\n",
    "4.\n",
    "Let’s create our second menu item early_bird. Early-bird Dinners are served from 3pm to 6pm. The following items are available during the early-bird menu:\n",
    "\n",
    "{\n",
    "  'salumeria plate': 8.00, 'salad and breadsticks (serves 2, no refills)': 14.00, 'pizza with quattro formaggi': 9.00, 'duck ragu': 17.50, 'mushroom ravioli (vegan)': 13.50, 'coffee': 1.50, 'espresso': 3.00,\n",
    "}\n",
    "5.\n",
    "Let’s create our third menu, dinner. Dinner is served from 5pm to 11pm. The following items are available for dinner:\n",
    "\n",
    "{\n",
    "  'crostini with eggplant caponata': 13.00, 'ceaser salad': 16.00, 'pizza with quattro formaggi': 11.00, 'duck ragu': 19.50, 'mushroom ravioli (vegan)': 13.50, 'coffee': 2.00, 'espresso': 3.00,\n",
    "}\n",
    "6.\n",
    "And let’s create our last menu, kids. The kids menu is available from 11am until 9pm. The following items are available on the kids menu.\n",
    "\n",
    "{\n",
    "  'chicken nuggets': 6.50, 'fusilli with wild mushrooms': 12.00, 'apple juice': 3.00\n",
    "}\n",
    "7.\n",
    "Give our Menu class a string representation method that will tell you the name of the menu. Also, indicate in this representation when the menu is available.\n",
    "\n",
    "8.\n",
    "Try out our string representation. If you call print(brunch) it should print out something like the following:\n",
    "\n",
    "brunch menu available from 11am to 4pm\n",
    "9.\n",
    "Give Menu a method .calculate_bill() that has two parameters: self, and purchased_items, a list of the names of purchased items.\n",
    "\n",
    "Have calculate_bill return the total price of a purchase consisiting of all the items in purchased_items.\n",
    "\n",
    "10.\n",
    "Test out Menu.calculate_bill(). We have a breakfast order for one order of pancakes, one order of home fries, and one coffee. Pass that into brunch.calculate_bill() and print out the price.\n",
    "\n",
    "11.\n",
    "What about an early-bird purchase? Our last guests ordered the salumeria plate and the vegan mushroom ravioli. Calculate the bill with .caluclate_bill().\n",
    "\n",
    "Creating the Franchises\n",
    "12.\n",
    "Basta Fazoolin’ with my Heart has seen tremendous success with the family market, which is fantastic because when you’re at Basta Fazoolin’ with my Heart with family, that’s great!\n",
    "\n",
    "We’ve decided to create more than one restaurant to offer our fantastic menus, services, and ambience around the country.\n",
    "\n",
    "First, let’s create a Franchise class.\n",
    "\n",
    "13.\n",
    "Give the Franchise class a constructor. Take in an address, and assign it to self.address. Also take in a list of menus and assign it to self.menus.\n",
    "\n",
    "14.\n",
    "Let’s create our first two franchises! Our flagship store is located at \"1232 West End Road\" and our new installment is located at \"12 East Mulberry Street\". Pass in all four menus along with these addresses to define flagship_store and new_installment.\n",
    "\n",
    "15.\n",
    "Give our Franchises a string represenation so that we’ll be able to tell them apart. If we print out a Franchise it should tell us the address of the restaurant.\n",
    "\n",
    "16.\n",
    "Let’s tell our customers what they can order! Give Franchise an .available_menus() method that takes in a time parameter and returns a list of the Menu objects that are available at that time.\n",
    "\n",
    "17.\n",
    "Let’s test out our .available_menus() method! Call it with 12 noon as an argument and print out the results.\n",
    "\n",
    "18.\n",
    "Let’s do another test! If we call .available_menus() with 5pm as an argument and print out the results.\n",
    "\n",
    "Creating Businesses!\n",
    "19.\n",
    "Since we’ve been so successful building out a branded chain of restaurants, we’ve decided to diversify. We’re going to create a restaurant that sells arepas!\n",
    "\n",
    "First let’s define a Business class.\n",
    "\n",
    "20.\n",
    "Give Business a constructor. A Business needs a name and a list of franchises.\n",
    "\n",
    "21.\n",
    "Let’s create our first Business. The name is \"Basta Fazoolin' with my Heart\" and the two franchises are flagship_store and new_installment.\n",
    "\n",
    "22.\n",
    "Before we create our new business, we’ll need a Franchise and before our Franchise we’ll need a menu. The items for our Take a’ Arepa available from 10am until 8pm are the following:\n",
    "\n",
    "{\n",
    "  'arepa pabellon': 7.00, 'pernil arepa': 8.50, 'guayanes arepa': 8.00, 'jamon arepa': 7.50\n",
    "}\n",
    "Save this to a variable called arepas_menu.\n",
    "\n",
    "23.\n",
    "Next let’s create our first Take a’ Arepa franchise! Our new restaurant is located at \"189 Fitzgerald Avenue\". Save the Franchise object to a variable called arepas_place.\n",
    "\n",
    "24.\n",
    "Now let’s make our new Business! The business is called \"Take a' Arepa\"!\n",
    "\n",
    "25.\n",
    "Congrats! You created a system of classes that help structure your code and perform all business requirements you need. Whenever we need a new feature we’ll have the well-organized code required to make developing and shipping it easy.\n",
    "\n",
    "26.\n",
    "If you are stuck on the project or would like to see an experienced developer work through the project, watch the following project walkthrough video!\"\"\""
   ]
  },
  {
   "cell_type": "code",
   "execution_count": 2,
   "metadata": {},
   "outputs": [
    {
     "data": {
      "text/plain": [
       "'https://www.youtube.com/watch?v=Dk-ePlxdmBU'"
      ]
     },
     "execution_count": 2,
     "metadata": {},
     "output_type": "execute_result"
    }
   ],
   "source": [
    "\"\"\"https://www.youtube.com/watch?v=Dk-ePlxdmBU\"\"\""
   ]
  },
  {
   "cell_type": "code",
   "execution_count": null,
   "metadata": {},
   "outputs": [],
   "source": []
  }
 ],
 "metadata": {
  "kernelspec": {
   "display_name": "Python 3",
   "language": "python",
   "name": "python3"
  },
  "language_info": {
   "codemirror_mode": {
    "name": "ipython",
    "version": 3
   },
   "file_extension": ".py",
   "mimetype": "text/x-python",
   "name": "python",
   "nbconvert_exporter": "python",
   "pygments_lexer": "ipython3",
   "version": "3.7.0"
  }
 },
 "nbformat": 4,
 "nbformat_minor": 2
}
