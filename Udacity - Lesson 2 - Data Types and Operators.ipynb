{
 "cells": [
  {
   "cell_type": "code",
   "execution_count": 1,
   "metadata": {},
   "outputs": [],
   "source": [
    "#Quiz: Arithmetic Operators"
   ]
  },
  {
   "cell_type": "code",
   "execution_count": 4,
   "metadata": {},
   "outputs": [],
   "source": [
    "#Quiz: Average Electricity Bill\n",
    "\n",
    "#My electricity bills for the last three months have been $23, $32 and $64. \n",
    "#What is the average monthly electricity bill over the three month period? \n",
    "#Write an expression to calculate the mean, and use print() to view the result."
   ]
  },
  {
   "cell_type": "code",
   "execution_count": 5,
   "metadata": {},
   "outputs": [
    {
     "name": "stdout",
     "output_type": "stream",
     "text": [
      "39.666666666666664\n"
     ]
    }
   ],
   "source": [
    "print((23 + 32 + 64)/3)"
   ]
  },
  {
   "cell_type": "code",
   "execution_count": 6,
   "metadata": {},
   "outputs": [],
   "source": [
    "#Quiz: Calculate\n",
    "#In this quiz you're going to do some calculations for a tiler. \n",
    "#Two parts of a floor need tiling. One part is 9 tiles wide by 7 tiles long,\n",
    "#the other is 5 tiles wide by 7 tiles long. Tiles come in packages of 6.\n",
    "\n",
    "#How many tiles are needed?\n",
    "#You buy 17 packages of tiles containing 6 tiles each. How many tiles will be left over?"
   ]
  },
  {
   "cell_type": "code",
   "execution_count": 9,
   "metadata": {},
   "outputs": [
    {
     "name": "stdout",
     "output_type": "stream",
     "text": [
      "98\n",
      "4\n"
     ]
    }
   ],
   "source": [
    "print((9*7)+(5*7))\n",
    "print((17*6)%((9*7)+(5*7)))"
   ]
  },
  {
   "cell_type": "code",
   "execution_count": null,
   "metadata": {},
   "outputs": [],
   "source": []
  }
 ],
 "metadata": {
  "kernelspec": {
   "display_name": "Python 3",
   "language": "python",
   "name": "python3"
  },
  "language_info": {
   "codemirror_mode": {
    "name": "ipython",
    "version": 3
   },
   "file_extension": ".py",
   "mimetype": "text/x-python",
   "name": "python",
   "nbconvert_exporter": "python",
   "pygments_lexer": "ipython3",
   "version": "3.7.0"
  }
 },
 "nbformat": 4,
 "nbformat_minor": 2
}
