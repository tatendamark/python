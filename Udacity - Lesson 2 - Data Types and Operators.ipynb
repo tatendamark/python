{
 "cells": [
  {
   "cell_type": "code",
   "execution_count": 1,
   "metadata": {},
   "outputs": [],
   "source": [
    "##Quiz: Arithmetic Operators"
   ]
  },
  {
   "cell_type": "code",
   "execution_count": 4,
   "metadata": {},
   "outputs": [],
   "source": [
    "#Quiz: Average Electricity Bill\n",
    "\n",
    "#My electricity bills for the last three months have been $23, $32 and $64. \n",
    "#What is the average monthly electricity bill over the three month period? \n",
    "#Write an expression to calculate the mean, and use print() to view the result."
   ]
  },
  {
   "cell_type": "code",
   "execution_count": 5,
   "metadata": {},
   "outputs": [
    {
     "name": "stdout",
     "output_type": "stream",
     "text": [
      "39.666666666666664\n"
     ]
    }
   ],
   "source": [
    "print((23 + 32 + 64)/3)"
   ]
  },
  {
   "cell_type": "code",
   "execution_count": 1,
   "metadata": {},
   "outputs": [],
   "source": [
    "#Quiz: Calculate\n",
    "#In this quiz you're going to do some calculations for a tiler. \n",
    "#Two parts of a floor need tiling. One part is 9 tiles wide by 7 tiles long,\n",
    "#the other is 5 tiles wide by 7 tiles long. Tiles come in packages of 6.\n",
    "\n",
    "#How many tiles are needed?\n",
    "#You buy 17 packages of tiles containing 6 tiles each. How many tiles will be left over?"
   ]
  },
  {
   "cell_type": "code",
   "execution_count": 9,
   "metadata": {},
   "outputs": [
    {
     "name": "stdout",
     "output_type": "stream",
     "text": [
      "98\n",
      "4\n"
     ]
    }
   ],
   "source": [
    "print((9*7)+(5*7))\n",
    "print((17*6)%((9*7)+(5*7)))"
   ]
  },
  {
   "cell_type": "code",
   "execution_count": 5,
   "metadata": {},
   "outputs": [],
   "source": [
    "#Quiz: Assign and Modify Variables"
   ]
  },
  {
   "cell_type": "code",
   "execution_count": 2,
   "metadata": {},
   "outputs": [],
   "source": [
    "#Now it's your turn to work with variables. \n",
    "#The comments in this quiz (the lines that begin with #) \n",
    "#have instructions for creating and modifying variables. \n",
    "#After each comment write a line of code that implements the instruction."
   ]
  },
  {
   "cell_type": "code",
   "execution_count": 3,
   "metadata": {},
   "outputs": [
    {
     "name": "stdout",
     "output_type": "stream",
     "text": [
      "447627500.0\n"
     ]
    }
   ],
   "source": [
    "# The current volume of a water reservoir (in cubic metres)\n",
    "reservoir_volume = 4.445e8\n",
    "# The amount of rainfall from a storm (in cubic metres)\n",
    "rainfall = 5e6\n",
    "\n",
    "# decrease the rainfall variable by 10% to account for runoff\n",
    "rainfall = rainfall*(1-0.1) \n",
    "# add the rainfall variable to the reservoir_volume variable\n",
    "reservoir_volume = reservoir_volume + rainfall\n",
    "# increase reservoir_volume by 5% to account for stormwater that flows\n",
    "# into the reservoir in the days following the storm\n",
    "reservoir_volume = reservoir_volume*(1+0.05)\n",
    "# decrease reservoir_volume by 5% to account for evaporation\n",
    "reservoir_volume = reservoir_volume*(1-0.05)\n",
    "# subtract 2.5e5 cubic metres from reservoir_volume to account for water\n",
    "# that's piped to arid regions.\n",
    "reservoir_volume = reservoir_volume - 2.5e5\n",
    "# print the new value of the reservoir_volume variable\n",
    "print (reservoir_volume)"
   ]
  },
  {
   "cell_type": "code",
   "execution_count": 4,
   "metadata": {},
   "outputs": [],
   "source": [
    "#Quiz: Changing Variable Values"
   ]
  },
  {
   "cell_type": "code",
   "execution_count": null,
   "metadata": {},
   "outputs": [],
   "source": []
  }
 ],
 "metadata": {
  "kernelspec": {
   "display_name": "Python 3",
   "language": "python",
   "name": "python3"
  },
  "language_info": {
   "codemirror_mode": {
    "name": "ipython",
    "version": 3
   },
   "file_extension": ".py",
   "mimetype": "text/x-python",
   "name": "python",
   "nbconvert_exporter": "python",
   "pygments_lexer": "ipython3",
   "version": "3.7.0"
  }
 },
 "nbformat": 4,
 "nbformat_minor": 2
}
