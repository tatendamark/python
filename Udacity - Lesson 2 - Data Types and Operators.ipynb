{
 "cells": [
  {
   "cell_type": "code",
   "execution_count": 1,
   "metadata": {},
   "outputs": [],
   "source": [
    "##Quiz: Arithmetic Operators"
   ]
  },
  {
   "cell_type": "code",
   "execution_count": 4,
   "metadata": {},
   "outputs": [],
   "source": [
    "#Quiz: Average Electricity Bill\n",
    "\n",
    "#My electricity bills for the last three months have been $23, $32 and $64. \n",
    "#What is the average monthly electricity bill over the three month period? \n",
    "#Write an expression to calculate the mean, and use print() to view the result."
   ]
  },
  {
   "cell_type": "code",
   "execution_count": 5,
   "metadata": {},
   "outputs": [
    {
     "name": "stdout",
     "output_type": "stream",
     "text": [
      "39.666666666666664\n"
     ]
    }
   ],
   "source": [
    "print((23 + 32 + 64)/3)"
   ]
  },
  {
   "cell_type": "code",
   "execution_count": 1,
   "metadata": {},
   "outputs": [],
   "source": [
    "#Quiz: Calculate\n",
    "#In this quiz you're going to do some calculations for a tiler. \n",
    "#Two parts of a floor need tiling. One part is 9 tiles wide by 7 tiles long,\n",
    "#the other is 5 tiles wide by 7 tiles long. Tiles come in packages of 6.\n",
    "\n",
    "#How many tiles are needed?\n",
    "#You buy 17 packages of tiles containing 6 tiles each. How many tiles will be left over?"
   ]
  },
  {
   "cell_type": "code",
   "execution_count": 9,
   "metadata": {},
   "outputs": [
    {
     "name": "stdout",
     "output_type": "stream",
     "text": [
      "98\n",
      "4\n"
     ]
    }
   ],
   "source": [
    "print((9*7)+(5*7))\n",
    "print((17*6)%((9*7)+(5*7)))"
   ]
  },
  {
   "cell_type": "code",
   "execution_count": null,
   "metadata": {},
   "outputs": [],
   "source": []
  },
  {
   "cell_type": "code",
   "execution_count": 5,
   "metadata": {},
   "outputs": [],
   "source": [
    "##Quiz: Assign and Modify Variables"
   ]
  },
  {
   "cell_type": "code",
   "execution_count": 2,
   "metadata": {},
   "outputs": [],
   "source": [
    "#Now it's your turn to work with variables. \n",
    "#The comments in this quiz (the lines that begin with #) \n",
    "#have instructions for creating and modifying variables. \n",
    "#After each comment write a line of code that implements the instruction."
   ]
  },
  {
   "cell_type": "code",
   "execution_count": 3,
   "metadata": {},
   "outputs": [
    {
     "name": "stdout",
     "output_type": "stream",
     "text": [
      "447627500.0\n"
     ]
    }
   ],
   "source": [
    "# The current volume of a water reservoir (in cubic metres)\n",
    "reservoir_volume = 4.445e8\n",
    "# The amount of rainfall from a storm (in cubic metres)\n",
    "rainfall = 5e6\n",
    "\n",
    "# decrease the rainfall variable by 10% to account for runoff\n",
    "rainfall = rainfall*(1-0.1) \n",
    "# add the rainfall variable to the reservoir_volume variable\n",
    "reservoir_volume = reservoir_volume + rainfall\n",
    "# increase reservoir_volume by 5% to account for stormwater that flows\n",
    "# into the reservoir in the days following the storm\n",
    "reservoir_volume = reservoir_volume*(1+0.05)\n",
    "# decrease reservoir_volume by 5% to account for evaporation\n",
    "reservoir_volume = reservoir_volume*(1-0.05)\n",
    "# subtract 2.5e5 cubic metres from reservoir_volume to account for water\n",
    "# that's piped to arid regions.\n",
    "reservoir_volume = reservoir_volume - 2.5e5\n",
    "# print the new value of the reservoir_volume variable\n",
    "print (reservoir_volume)"
   ]
  },
  {
   "cell_type": "code",
   "execution_count": 4,
   "metadata": {},
   "outputs": [],
   "source": []
  },
  {
   "cell_type": "code",
   "execution_count": 7,
   "metadata": {},
   "outputs": [],
   "source": [
    "##Quiz: Booleans, Comparison Operators, and Logical Operators"
   ]
  },
  {
   "cell_type": "code",
   "execution_count": 8,
   "metadata": {},
   "outputs": [],
   "source": [
    "#Quiz: Which is denser, Rio or San Francisco?"
   ]
  },
  {
   "cell_type": "code",
   "execution_count": 9,
   "metadata": {},
   "outputs": [
    {
     "name": "stdout",
     "output_type": "stream",
     "text": [
      "False\n"
     ]
    }
   ],
   "source": [
    "sf_population, sf_area = 864816, 231.89\n",
    "rio_population, rio_area = 6453682, 486.5\n",
    "\n",
    "san_francisco_pop_density = sf_population/sf_area\n",
    "rio_de_janeiro_pop_density = rio_population/rio_area\n",
    "\n",
    "# Write code that prints True if San Francisco is denser than Rio, and False otherwise\n",
    "print(san_francisco_pop_density>rio_de_janeiro_pop_density)"
   ]
  },
  {
   "cell_type": "code",
   "execution_count": null,
   "metadata": {},
   "outputs": [],
   "source": []
  },
  {
   "cell_type": "code",
   "execution_count": 10,
   "metadata": {},
   "outputs": [],
   "source": [
    "##Quiz: Strings\n"
   ]
  },
  {
   "cell_type": "code",
   "execution_count": 11,
   "metadata": {},
   "outputs": [],
   "source": [
    "#Quiz: Fix the Quote\n",
    "#The line of code in the following quiz will cause a SyntaxError, \n",
    "#thanks to the misuse of quotation marks. First run it with Test Run to view the error message. \n",
    "#Then resolve the problem so that the quote (from Henry Ford) \n",
    "#is correctly assigned to the variable ford_quote."
   ]
  },
  {
   "cell_type": "code",
   "execution_count": 12,
   "metadata": {},
   "outputs": [
    {
     "name": "stdout",
     "output_type": "stream",
     "text": [
      "Whether you think you can, or you think you can't--you're right.\n"
     ]
    }
   ],
   "source": [
    "# TODO: Fix this string!\n",
    "ford_quote = 'Whether you think you can, or you think you can\\'t--you\\'re right.'\n",
    "print(ford_quote)"
   ]
  },
  {
   "cell_type": "code",
   "execution_count": 13,
   "metadata": {},
   "outputs": [],
   "source": [
    "#Quiz: Write a Server Log Message\n",
    "#In this programming quiz, you’re going to use what you’ve learned about strings to \n",
    "#write a logging message for a server.\n",
    "\n",
    "#You’ll be provided with example data for a user, the time of their visit and \n",
    "#the site they accessed. You should use the variables provided and the techniques you’ve learned \n",
    "#to print a log message like this one (with the username, url, \n",
    "#and timestamp replaced with values from the appropriate variables):\n",
    "\n",
    "#Yogesh accessed the site http://petshop.com/pets/reptiles/pythons at 16:20."
   ]
  },
  {
   "cell_type": "code",
   "execution_count": 14,
   "metadata": {},
   "outputs": [
    {
     "name": "stdout",
     "output_type": "stream",
     "text": [
      "Kinari accessed the site http://petshop.com/pets/mammals/cats at 04:50.\n"
     ]
    }
   ],
   "source": [
    "username = \"Kinari\"\n",
    "timestamp = \"04:50\"\n",
    "url = \"http://petshop.com/pets/mammals/cats\"\n",
    "\n",
    "# TODO: print a log message using the variables above.\n",
    "# The message should have the same format as this one:\n",
    "# \"Yogesh accessed the site http://petshop.com/pets/reptiles/pythons at 16:20.\"\n",
    "print(username + \" accessed the site \" + url + \" at \" + timestamp + \".\")"
   ]
  },
  {
   "cell_type": "code",
   "execution_count": 15,
   "metadata": {},
   "outputs": [],
   "source": [
    "#Quiz: len()\n",
    "#Use string concatenation and the len() function to find the length of a certain\n",
    "#movie star's actual full name. Store that length in the name_length variable. \n",
    "#Don't forget that there are spaces in between the different parts of a name!\n",
    "\n"
   ]
  },
  {
   "cell_type": "code",
   "execution_count": 16,
   "metadata": {},
   "outputs": [
    {
     "name": "stdout",
     "output_type": "stream",
     "text": [
      "True\n"
     ]
    }
   ],
   "source": [
    "given_name = \"William\"\n",
    "middle_names = \"Bradley\"\n",
    "family_name = \"Pitt\"\n",
    "\n",
    "name_length = len(given_name + \" \" + middle_names + \" \" + family_name)\n",
    "\n",
    "# Now we check to make sure that the name fits within the driving license character limit\n",
    "# Nothing you need to do here\n",
    "driving_license_character_limit = 28\n",
    "print(name_length <= driving_license_character_limit)"
   ]
  },
  {
   "cell_type": "code",
   "execution_count": null,
   "metadata": {},
   "outputs": [],
   "source": []
  },
  {
   "cell_type": "code",
   "execution_count": 18,
   "metadata": {},
   "outputs": [],
   "source": [
    "##Quiz: Type and Type Conversion"
   ]
  },
  {
   "cell_type": "code",
   "execution_count": 19,
   "metadata": {},
   "outputs": [],
   "source": [
    "#Quiz: Total Sales\n",
    "#In this quiz, you’ll need to change the types of the input and output data \n",
    "#in order to get the result you want.\n",
    "\n",
    "#Calculate and print the total sales for the week from the data provided. \n",
    "#Print out a string of the form \"This week's total sales: xxx\", \n",
    "#where xxx will be the actual total of all the numbers. \n",
    "#You’ll need to change the type of the input data in order to calculate that total."
   ]
  },
  {
   "cell_type": "code",
   "execution_count": 25,
   "metadata": {},
   "outputs": [
    {
     "name": "stdout",
     "output_type": "stream",
     "text": [
      "<class 'int'>\n",
      "This week's total sales: 529\n"
     ]
    }
   ],
   "source": [
    "mon_sales = \"121\"\n",
    "tues_sales = \"105\"\n",
    "wed_sales = \"110\"\n",
    "thurs_sales = \"98\"\n",
    "fri_sales = \"95\"\n",
    "\n",
    "#TODO: Print a string with this format: This week's total sales: xxx\n",
    "# You will probably need to write some lines of code before the print statement.\n",
    "\n",
    "mon_sales = int(mon_sales)\n",
    "tues_sales = int(tues_sales)\n",
    "wed_sales = int(wed_sales)\n",
    "thurs_sales = int(thurs_sales)\n",
    "fri_sales = int(fri_sales)\n",
    "\n",
    "print(type(mon_sales))\n",
    "\n",
    "week_sales = mon_sales + tues_sales + wed_sales + thurs_sales + fri_sales\n",
    "\n",
    "print(\"This week's total sales: \"+ str(week_sales))"
   ]
  },
  {
   "cell_type": "code",
   "execution_count": null,
   "metadata": {},
   "outputs": [],
   "source": []
  },
  {
   "cell_type": "code",
   "execution_count": 29,
   "metadata": {},
   "outputs": [],
   "source": [
    "##Quiz: String Methods Practice"
   ]
  },
  {
   "cell_type": "code",
   "execution_count": 30,
   "metadata": {},
   "outputs": [],
   "source": [
    "#Quiz: String Methods Coding Practice\n",
    "#Below, we have a string variable that contains the first verse of the poem, \n",
    "#If by Rudyard Kipling. Remember, \\n is a special sequence of characters that \n",
    "#causes a line break (a new line).\n",
    "\n",
    "#Use the code editor below to answer the following questions about verse and use Test Run to \n",
    "#check your output in the quiz at the bottom of this page.\n",
    "\n",
    "#What is the length of the string variable verse?\n",
    "#What is the index of the first occurrence of the word 'and' in verse?\n",
    "#What is the index of the last occurrence of the word 'you' in verse?\n",
    "#What is the count of occurrences of the word 'you' in the verse?"
   ]
  },
  {
   "cell_type": "code",
   "execution_count": 37,
   "metadata": {},
   "outputs": [
    {
     "name": "stdout",
     "output_type": "stream",
     "text": [
      "If you can keep your head when all about you\n",
      "  Are losing theirs and blaming it on you,\n",
      "If you can trust yourself when all men doubt you,\n",
      "  But make allowance for their doubting too;\n",
      "If you can wait and not be tired by waiting,\n",
      "  Or being lied about, don’t deal in lies,\n",
      "Or being hated, don’t give way to hating,\n",
      "  And yet don’t look too good, nor talk too wise:\n",
      "362\n",
      "65\n",
      "186\n",
      "8\n",
      "Verse string length is 362, with the first 'and' 65 words in\n",
      "and the last 'you' 186 words in. 'you' occurs 8 times\n"
     ]
    }
   ],
   "source": [
    "verse = \"If you can keep your head when all about you\\n  Are losing theirs and blaming it on you,\\nIf you can trust yourself when all men doubt you,\\n  But make allowance for their doubting too;\\nIf you can wait and not be tired by waiting,\\n  Or being lied about, don’t deal in lies,\\nOr being hated, don’t give way to hating,\\n  And yet don’t look too good, nor talk too wise:\"\n",
    "print(verse)\n",
    "\n",
    "# Use the appropriate functions and methods to answer the questions above\n",
    "# Bonus: practice using .format() to output your answers in descriptive messages!\n",
    "\n",
    "\n",
    "\n",
    "verselength = len(verse)\n",
    "print(verselength)\n",
    "\n",
    "firstand = verse.find(\"and\")\n",
    "print(firstand)\n",
    "\n",
    "lastyou = verse.rfind(\"you\")\n",
    "print(lastyou)\n",
    "\n",
    "youcount = verse.count(\"you\")\n",
    "print(youcount)\n",
    "\n",
    "\n",
    "print(\"Verse string length is {}, with the first 'and' {} words in\\nand the last 'you' {} words in. 'you' occurs {} times\".format(verselength, firstand, lastyou, youcount))"
   ]
  },
  {
   "cell_type": "code",
   "execution_count": null,
   "metadata": {},
   "outputs": [],
   "source": []
  }
 ],
 "metadata": {
  "kernelspec": {
   "display_name": "Python 3",
   "language": "python",
   "name": "python3"
  },
  "language_info": {
   "codemirror_mode": {
    "name": "ipython",
    "version": 3
   },
   "file_extension": ".py",
   "mimetype": "text/x-python",
   "name": "python",
   "nbconvert_exporter": "python",
   "pygments_lexer": "ipython3",
   "version": "3.7.0"
  }
 },
 "nbformat": 4,
 "nbformat_minor": 2
}
