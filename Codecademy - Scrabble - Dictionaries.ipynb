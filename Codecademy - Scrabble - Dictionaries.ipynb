{
 "cells": [
  {
   "cell_type": "code",
   "execution_count": 1,
   "metadata": {},
   "outputs": [
    {
     "data": {
      "text/plain": [
       "'Scrabble\\nIn this project, you will process some data from a group of friends playing scrabble. You will use dictionaries to organize players, words, and points.\\n\\nThere are many ways you can extend this project on your own if you finish and want to get more practice!'"
      ]
     },
     "execution_count": 1,
     "metadata": {},
     "output_type": "execute_result"
    }
   ],
   "source": [
    "\"\"\"Scrabble\n",
    "In this project, you will process some data from a group of friends playing scrabble. You will use dictionaries to organize players, words, and points.\n",
    "\n",
    "There are many ways you can extend this project on your own if you finish and want to get more practice!\"\"\""
   ]
  },
  {
   "cell_type": "code",
   "execution_count": 3,
   "metadata": {},
   "outputs": [
    {
     "name": "stdout",
     "output_type": "stream",
     "text": [
      "\n",
      "Build your Point Dictionary\n",
      "\n",
      "{'A': 1, 'B': 3, 'C': 3, 'D': 2, 'E': 1, 'F': 4, 'G': 2, 'H': 4, 'I': 1, 'J': 8, 'K': 5, 'L': 1, 'M': 3, 'N': 4, 'O': 1, 'P': 3, 'Q': 10, 'R': 1, 'S': 1, 'T': 1, 'U': 1, 'V': 4, 'W': 4, 'X': 8, 'Y': 4, 'Z': 10}\n",
      "\n",
      "\n",
      "{'A': 1, 'B': 3, 'C': 3, 'D': 2, 'E': 1, 'F': 4, 'G': 2, 'H': 4, 'I': 1, 'J': 8, 'K': 5, 'L': 1, 'M': 3, 'N': 4, 'O': 1, 'P': 3, 'Q': 10, 'R': 1, 'S': 1, 'T': 1, 'U': 1, 'V': 4, 'W': 4, 'X': 8, 'Y': 4, 'Z': 10, ' ': 0}\n",
      "\n",
      "Score a Word\n",
      "\n",
      "15\n",
      "\n",
      "Score a Game\n",
      "\n",
      "{'player1': ['BLUE', 'TENNIS', 'EXIT'], 'wordNerd': ['EARTH', 'EYES', 'MACHINE'], 'Lexi Con': ['ERASER', 'BELLY', 'HUSKY'], 'Prof Reader': ['ZAP', 'COMA', 'PERIOD']}\n",
      "\n",
      "\n",
      "player1 scored 29\n",
      "wordNerd scored 32\n",
      "Lexi Con scored 31\n",
      "Prof Reader scored 31\n",
      "\n",
      "Ideas for Further Practice!\n",
      "\n",
      "['WORLD']\n"
     ]
    }
   ],
   "source": [
    "letters = [\"A\", \"B\", \"C\", \"D\", \"E\", \"F\", \"G\", \"H\", \"I\", \"J\", \"K\", \"L\", \"M\", \"N\", \"O\", \"P\", \"Q\", \"R\", \"S\", \"T\", \"U\", \"V\", \"W\", \"X\", \"Y\", \"Z\"]\n",
    "points = [1, 3, 3, 2, 1, 4, 2, 4, 1, 8, 5, 1, 3, 4, 1, 3, 10, 1, 1, 1, 1, 4, 4, 8, 4, 10]\n",
    "\n",
    "print('\\n' + \"Build your Point Dictionary\" + '\\n')\n",
    "letters_to_points = {letter: point for letter, point in zip(letters, points)}\n",
    "print(letters_to_points)\n",
    "print('\\n')\n",
    "letters_to_points[' '] = 0\n",
    "print(letters_to_points)\n",
    "\n",
    "print('\\n' + \"Score a Word\" + '\\n')\n",
    "def score_word(word):\n",
    "  point_total = 0\n",
    "  for letter in word:\n",
    "    point_total += letters_to_points.get(letter, 0)\n",
    "  return point_total\n",
    "\n",
    "brownie_points = score_word('BROWNIE')\n",
    "print(brownie_points)\n",
    "\n",
    "print('\\n' + \"Score a Game\" + '\\n')\n",
    "player_to_words = {'player1': ['BLUE', 'TENNIS', 'EXIT'], 'wordNerd': ['EARTH', 'EYES', 'MACHINE'], 'Lexi Con': ['ERASER', 'BELLY', 'HUSKY'] , 'Prof Reader': ['ZAP', 'COMA', 'PERIOD']}\n",
    "print(player_to_words)\n",
    "player_to_points = {}\n",
    "print('\\n')\n",
    "for player, words in player_to_words.items():\n",
    "  player_points = 0\n",
    "  for word in words:\n",
    "    player_points += score_word(word)\n",
    "  player_to_points[player] = player_points\n",
    "\n",
    "for player, points in player_to_points.items():\n",
    "  print('{} scored {}'.format(player, points))\n",
    "  \n",
    "print('\\n' + \"Ideas for Further Practice!\" + '\\n')\n",
    "def play_word (player, word):\n",
    "  play_word_list = []\n",
    "  \n",
    "  #for player, word in player_to_words.items():\n",
    "    #player_word_list.append(word)\n",
    "  play_word_list.append(word)\n",
    "  return play_word_list\n",
    "\n",
    "\n",
    "print(play_word ('Player1', 'WORLD')) "
   ]
  },
  {
   "cell_type": "code",
   "execution_count": null,
   "metadata": {},
   "outputs": [],
   "source": []
  },
  {
   "cell_type": "code",
   "execution_count": null,
   "metadata": {},
   "outputs": [],
   "source": []
  }
 ],
 "metadata": {
  "kernelspec": {
   "display_name": "Python 3",
   "language": "python",
   "name": "python3"
  },
  "language_info": {
   "codemirror_mode": {
    "name": "ipython",
    "version": 3
   },
   "file_extension": ".py",
   "mimetype": "text/x-python",
   "name": "python",
   "nbconvert_exporter": "python",
   "pygments_lexer": "ipython3",
   "version": "3.7.0"
  }
 },
 "nbformat": 4,
 "nbformat_minor": 2
}
