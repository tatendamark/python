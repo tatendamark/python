{
 "cells": [
  {
   "cell_type": "code",
   "execution_count": 2,
   "metadata": {},
   "outputs": [
    {
     "data": {
      "text/plain": [
       "'Create Purchasing Information and Receipts for Lovely Loveseats\\nWe’ve decided to pursue the dream of small-business ownership and open up a furniture store called Lovely Loveseats for Neat Suites on Fleet Street. With our newfound knowledge of Python programming, we’re going to build a system to help speed up the process of creating receipts for your customers.\\n\\nIn this project, we will be storing the names and prices of a furniture store’s catalog in variables. You will then process the total price and item list of customers, printing them to the output terminal.'"
      ]
     },
     "execution_count": 2,
     "metadata": {},
     "output_type": "execute_result"
    }
   ],
   "source": [
    "\"\"\"Create Purchasing Information and Receipts for Lovely Loveseats\n",
    "We’ve decided to pursue the dream of small-business ownership and open up a furniture store called Lovely Loveseats for Neat Suites on Fleet Street. With our newfound knowledge of Python programming, we’re going to build a system to help speed up the process of creating receipts for your customers.\n",
    "\n",
    "In this project, we will be storing the names and prices of a furniture store’s catalog in variables. You will then process the total price and item list of customers, printing them to the output terminal.\"\"\""
   ]
  },
  {
   "cell_type": "code",
   "execution_count": 1,
   "metadata": {},
   "outputs": [
    {
     "name": "stdout",
     "output_type": "stream",
     "text": [
      "Customer One Items:\n",
      "Lovely Loveseat. Tufted polyester blend on wood. 32 inches high x 40 inches wide x 30 inches deep. Red or white. Luxurious Lamp. Glass and iron. 36 inches tall. Brown with cream shade. \n",
      "Customer One Total:\n",
      "333.09119999999996\n"
     ]
    }
   ],
   "source": [
    "lovely_loveseat_description = \"\"\"Lovely Loveseat. Tufted polyester blend on wood. 32 inches high x 40 inches wide x 30 inches deep. Red or white. \"\"\"\n",
    "\n",
    "lovely_loveseat_price = 254.00\n",
    "\n",
    "stylish_settee_description = \"\"\"Stylish Settee. Faux leather on birch. 29.50 inches high x 54.75 inches wide x 28 inches deep. Black. \"\"\"\n",
    "\n",
    "stylish_settee_price = 180.50\n",
    "\n",
    "luxurious_lamp_description = \"\"\"Luxurious Lamp. Glass and iron. 36 inches tall. Brown with cream shade. \"\"\"\n",
    "\n",
    "luxurious_lamp_price = 52.15\n",
    "\n",
    "sales_tax = 0.088\n",
    "\n",
    "customer_one_total = 0\n",
    "\n",
    "customer_one_itemization = \"\" \n",
    "\n",
    "customer_one_total += lovely_loveseat_price\n",
    "\n",
    "customer_one_itemization += lovely_loveseat_description\n",
    "\n",
    "customer_one_total += luxurious_lamp_price\n",
    "\n",
    "customer_one_itemization += luxurious_lamp_description\n",
    "\n",
    "customer_one_tax = customer_one_total * sales_tax\n",
    "\n",
    "customer_one_total += customer_one_tax\n",
    "\n",
    "print(\"Customer One Items:\")\n",
    "print(customer_one_itemization)\n",
    "print(\"Customer One Total:\")\n",
    "print(customer_one_total)\n",
    "\n",
    "\n",
    "\n",
    "\n",
    "\n",
    "\n",
    "\n",
    "\n",
    "\n",
    "\n"
   ]
  },
  {
   "cell_type": "code",
   "execution_count": null,
   "metadata": {},
   "outputs": [],
   "source": []
  }
 ],
 "metadata": {
  "kernelspec": {
   "display_name": "Python 3",
   "language": "python",
   "name": "python3"
  },
  "language_info": {
   "codemirror_mode": {
    "name": "ipython",
    "version": 3
   },
   "file_extension": ".py",
   "mimetype": "text/x-python",
   "name": "python",
   "nbconvert_exporter": "python",
   "pygments_lexer": "ipython3",
   "version": "3.7.0"
  }
 },
 "nbformat": 4,
 "nbformat_minor": 2
}
