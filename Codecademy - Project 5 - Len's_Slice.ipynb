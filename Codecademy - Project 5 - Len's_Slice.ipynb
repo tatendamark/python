{
 "cells": [
  {
   "cell_type": "code",
   "execution_count": 1,
   "metadata": {},
   "outputs": [
    {
     "data": {
      "text/plain": [
       "\"Len's Slice\\nYou work at Len’s Slice, a new pizza joint in the neighborhood. You are going to use your knowledge of Python lists to organize some of your sales data.\""
      ]
     },
     "execution_count": 1,
     "metadata": {},
     "output_type": "execute_result"
    }
   ],
   "source": [
    "\"\"\"Len's Slice\n",
    "You work at Len’s Slice, a new pizza joint in the neighborhood. You are going to use your knowledge of Python lists to organize some of your sales data.\"\"\""
   ]
  },
  {
   "cell_type": "code",
   "execution_count": 2,
   "metadata": {},
   "outputs": [
    {
     "name": "stdout",
     "output_type": "stream",
     "text": [
      "We sell 7 different kinds of pizza!\n",
      "[(2, 'pepperoni'), (6, 'pineapple'), (1, 'cheese'), (3, 'sausage'), (2, 'olives'), (7, 'anchovies'), (2, 'mushrooms')]\n",
      "[(1, 'cheese'), (2, 'mushrooms'), (2, 'olives'), (2, 'pepperoni'), (3, 'sausage'), (6, 'pineapple'), (7, 'anchovies')]\n",
      "(1, 'cheese')\n",
      "(7, 'anchovies')\n",
      "[(1, 'cheese'), (2, 'mushrooms'), (2, 'olives')]\n",
      "3\n"
     ]
    }
   ],
   "source": [
    "toppings = ['pepperoni', 'pineapple', 'cheese', 'sausage', 'olives', 'anchovies', 'mushrooms']\n",
    "\n",
    "prices = [2, 6, 1, 3, 2, 7, 2]\n",
    "\n",
    "num_pizzas = len(toppings)\n",
    "\n",
    "print('We sell ' + str(num_pizzas) + \" different kinds of pizza!\")\n",
    "\n",
    "pizzas = list(zip(prices, toppings))\n",
    "print(pizzas)\n",
    "\n",
    "pizzas.sort()\n",
    "print(pizzas)\n",
    "\n",
    "cheapest_pizza = pizzas[0]\n",
    "print(cheapest_pizza)\n",
    "\n",
    "priciest_pizza = pizzas[-1]\n",
    "print(priciest_pizza)\n",
    "\n",
    "three_cheapest = pizzas[:3]\n",
    "print(three_cheapest)\n",
    "\n",
    "num_two_dollar_slices = prices.count(2)\n",
    "print(num_two_dollar_slices)\n",
    "\n",
    "\n",
    "\n",
    "\n",
    "\n",
    "\n"
   ]
  },
  {
   "cell_type": "code",
   "execution_count": 3,
   "metadata": {},
   "outputs": [
    {
     "name": "stdout",
     "output_type": "stream",
     "text": [
      "[2, 6, 1, 3, 2, 7, 2, 2, 6, 1, 3, 2, 7, 2]\n"
     ]
    }
   ],
   "source": [
    "print(prices*2)"
   ]
  },
  {
   "cell_type": "code",
   "execution_count": null,
   "metadata": {},
   "outputs": [],
   "source": []
  }
 ],
 "metadata": {
  "kernelspec": {
   "display_name": "Python 3",
   "language": "python",
   "name": "python3"
  },
  "language_info": {
   "codemirror_mode": {
    "name": "ipython",
    "version": 3
   },
   "file_extension": ".py",
   "mimetype": "text/x-python",
   "name": "python",
   "nbconvert_exporter": "python",
   "pygments_lexer": "ipython3",
   "version": "3.7.0"
  }
 },
 "nbformat": 4,
 "nbformat_minor": 2
}
