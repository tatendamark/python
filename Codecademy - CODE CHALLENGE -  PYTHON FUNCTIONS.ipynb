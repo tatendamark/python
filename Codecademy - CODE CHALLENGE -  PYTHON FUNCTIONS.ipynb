{
 "cells": [
  {
   "cell_type": "code",
   "execution_count": 1,
   "metadata": {},
   "outputs": [
    {
     "data": {
      "text/plain": [
       "'Write a function named average() that has two parameters named num1 and num2.\\n\\nThe function should return the average of these two numbers.'"
      ]
     },
     "execution_count": 1,
     "metadata": {},
     "output_type": "execute_result"
    }
   ],
   "source": [
    "\"\"\"Write a function named average() that has two parameters named num1 and num2.\n",
    "\n",
    "The function should return the average of these two numbers.\"\"\""
   ]
  },
  {
   "cell_type": "code",
   "execution_count": 2,
   "metadata": {},
   "outputs": [
    {
     "name": "stdout",
     "output_type": "stream",
     "text": [
      "50.5\n",
      "0.0\n"
     ]
    }
   ],
   "source": [
    "# Write your average function here:\n",
    "def average(num1, num2):\n",
    "  return (num1 + num2)/2\n",
    "# Uncomment these function calls to test your average function:\n",
    "print(average(1, 100))\n",
    "# The average of 1 and 100 is 50.5\n",
    "print(average(1, -1))\n",
    "# The average of 1 and -1 is 0"
   ]
  },
  {
   "cell_type": "code",
   "execution_count": null,
   "metadata": {},
   "outputs": [],
   "source": []
  },
  {
   "cell_type": "code",
   "execution_count": 3,
   "metadata": {},
   "outputs": [
    {
     "data": {
      "text/plain": [
       "'Write a function named tenth_power() that has one parameter named num.\\n\\nThe function should return num raised to the 10th power.'"
      ]
     },
     "execution_count": 3,
     "metadata": {},
     "output_type": "execute_result"
    }
   ],
   "source": [
    "\"\"\"Write a function named tenth_power() that has one parameter named num.\n",
    "\n",
    "The function should return num raised to the 10th power.\"\"\""
   ]
  },
  {
   "cell_type": "code",
   "execution_count": 4,
   "metadata": {},
   "outputs": [
    {
     "name": "stdout",
     "output_type": "stream",
     "text": [
      "1\n",
      "0\n",
      "1024\n"
     ]
    }
   ],
   "source": [
    "# Write your tenth_power function here:\n",
    "def tenth_power(num):\n",
    "  return num ** 10\n",
    "# Uncomment these function calls to test your tenth_power function:\n",
    "print(tenth_power(1))\n",
    "# 1 to the 10th power is 1\n",
    "print(tenth_power(0))\n",
    "# 0 to the 10th power is 0\n",
    "print(tenth_power(2))\n",
    "# 2 to the 10th power is 1024"
   ]
  },
  {
   "cell_type": "code",
   "execution_count": null,
   "metadata": {},
   "outputs": [],
   "source": []
  },
  {
   "cell_type": "code",
   "execution_count": 5,
   "metadata": {},
   "outputs": [
    {
     "data": {
      "text/plain": [
       "'Write a function named introduction() that has two parameters named first_name and last_name.\\n\\nThe function should return the last_name, followed by a comma, a space, first_name another space, and finally last_name.'"
      ]
     },
     "execution_count": 5,
     "metadata": {},
     "output_type": "execute_result"
    }
   ],
   "source": [
    "\"\"\"Write a function named introduction() that has two parameters named first_name and last_name.\n",
    "\n",
    "The function should return the last_name, followed by a comma, a space, first_name another space, and finally last_name.\"\"\""
   ]
  },
  {
   "cell_type": "code",
   "execution_count": 6,
   "metadata": {},
   "outputs": [
    {
     "name": "stdout",
     "output_type": "stream",
     "text": [
      "Bond, James Bond\n",
      "Angelou, Maya Angelou\n"
     ]
    }
   ],
   "source": [
    "# Write your introduction function here:\n",
    "def introduction(first_name, last_name):\n",
    "  return last_name + \", \" + first_name + \" \" + last_name\n",
    "# Uncomment these function calls to test your introduction function:\n",
    "print(introduction(\"James\", \"Bond\"))\n",
    "# should print Bond, James Bond\n",
    "print(introduction(\"Maya\", \"Angelou\"))\n",
    "# should print Angelou, Maya Angelou"
   ]
  },
  {
   "cell_type": "code",
   "execution_count": null,
   "metadata": {},
   "outputs": [],
   "source": []
  },
  {
   "cell_type": "code",
   "execution_count": 7,
   "metadata": {},
   "outputs": [
    {
     "data": {
      "text/plain": [
       "'Write a function named square_root() that has one parameter named num.\\n\\nUse exponents (**) to return the square root of num.'"
      ]
     },
     "execution_count": 7,
     "metadata": {},
     "output_type": "execute_result"
    }
   ],
   "source": [
    "\"\"\"Write a function named square_root() that has one parameter named num.\n",
    "\n",
    "Use exponents (**) to return the square root of num.\"\"\""
   ]
  },
  {
   "cell_type": "code",
   "execution_count": 8,
   "metadata": {},
   "outputs": [
    {
     "name": "stdout",
     "output_type": "stream",
     "text": [
      "4.0\n",
      "10.0\n"
     ]
    }
   ],
   "source": [
    "# Write your square_root function here:\n",
    "def square_root(num):\n",
    "  return num ** 0.5\n",
    "# Uncomment these function calls to test your square_root function:\n",
    "print(square_root(16))\n",
    "# should print 4\n",
    "print(square_root(100))\n",
    "# should print 10"
   ]
  },
  {
   "cell_type": "code",
   "execution_count": null,
   "metadata": {},
   "outputs": [],
   "source": []
  },
  {
   "cell_type": "code",
   "execution_count": 9,
   "metadata": {},
   "outputs": [
    {
     "data": {
      "text/plain": [
       "'Create a function called tip() that has two parameters named total and percentage.\\n\\nThis function should return the amount you should tip given a total and the percentage you want to tip.'"
      ]
     },
     "execution_count": 9,
     "metadata": {},
     "output_type": "execute_result"
    }
   ],
   "source": [
    "\"\"\"Create a function called tip() that has two parameters named total and percentage.\n",
    "\n",
    "This function should return the amount you should tip given a total and the percentage you want to tip.\"\"\""
   ]
  },
  {
   "cell_type": "code",
   "execution_count": 10,
   "metadata": {},
   "outputs": [
    {
     "name": "stdout",
     "output_type": "stream",
     "text": [
      "2.5\n",
      "0.0\n"
     ]
    }
   ],
   "source": [
    "# Write your tip function here:\n",
    "def tip(total, percentage):\n",
    "    return total * percentage/100\n",
    "# Uncomment these function calls to test your tip function:\n",
    "print(tip(10, 25))\n",
    "# should print 2.5\n",
    "print(tip(0, 100))\n",
    "# should print 0.0"
   ]
  },
  {
   "cell_type": "code",
   "execution_count": null,
   "metadata": {},
   "outputs": [],
   "source": []
  },
  {
   "cell_type": "code",
   "execution_count": 12,
   "metadata": {},
   "outputs": [
    {
     "data": {
      "text/plain": [
       "'Create a function called win_percentage() that takes two parameters named wins and losses.\\n\\nThis function should return out the total percentage of games won by a team based on these two numbers.'"
      ]
     },
     "execution_count": 12,
     "metadata": {},
     "output_type": "execute_result"
    }
   ],
   "source": [
    "\"\"\"Create a function called win_percentage() that takes two parameters named wins and losses.\n",
    "\n",
    "This function should return out the total percentage of games won by a team based on these two numbers.\"\"\""
   ]
  },
  {
   "cell_type": "code",
   "execution_count": 13,
   "metadata": {},
   "outputs": [
    {
     "name": "stdout",
     "output_type": "stream",
     "text": [
      "50.0\n",
      "100.0\n"
     ]
    }
   ],
   "source": [
    "# Write your win_percentage function here:\n",
    "def win_percentage(wins, losses):\n",
    "  return (wins / (wins + losses))*100\n",
    "# Uncomment these function calls to test your win_percentage function:\n",
    "print(win_percentage(5, 5))\n",
    "# should print 50\n",
    "print(win_percentage(10, 0))\n",
    "# should print 100"
   ]
  },
  {
   "cell_type": "code",
   "execution_count": null,
   "metadata": {},
   "outputs": [],
   "source": []
  },
  {
   "cell_type": "code",
   "execution_count": 14,
   "metadata": {},
   "outputs": [
    {
     "data": {
      "text/plain": [
       "'Write a function named first_three_multiples() that has one parameter named num.\\n\\nThis function should print the first three multiples of num. Then, it should return the third multiple.\\n\\nFor example, first_three_multiples(7) should print 7, 14, and 21 on three different lines, and return 21.'"
      ]
     },
     "execution_count": 14,
     "metadata": {},
     "output_type": "execute_result"
    }
   ],
   "source": [
    "\"\"\"Write a function named first_three_multiples() that has one parameter named num.\n",
    "\n",
    "This function should print the first three multiples of num. Then, it should return the third multiple.\n",
    "\n",
    "For example, first_three_multiples(7) should print 7, 14, and 21 on three different lines, and return 21.\"\"\""
   ]
  },
  {
   "cell_type": "code",
   "execution_count": 15,
   "metadata": {},
   "outputs": [
    {
     "name": "stdout",
     "output_type": "stream",
     "text": [
      "10\n",
      "20\n",
      "30\n",
      "0\n",
      "0\n",
      "0\n"
     ]
    },
    {
     "data": {
      "text/plain": [
       "0"
      ]
     },
     "execution_count": 15,
     "metadata": {},
     "output_type": "execute_result"
    }
   ],
   "source": [
    "# Write your first_three_multiples function here:\n",
    "def first_three_multiples(num):\n",
    "  print (num*1)\n",
    "  print (num*2)\n",
    "  print (num*3)\n",
    "  return num * 3\n",
    "# Uncomment these function calls to test your first_three_multiples function:\n",
    "first_three_multiples(10)\n",
    "# should print 10, 20, 30, and return 30\n",
    "first_three_multiples(0)\n",
    "# should print 0, 0, 0, and return 0"
   ]
  },
  {
   "cell_type": "code",
   "execution_count": null,
   "metadata": {},
   "outputs": [],
   "source": []
  },
  {
   "cell_type": "code",
   "execution_count": 16,
   "metadata": {},
   "outputs": [
    {
     "data": {
      "text/plain": [
       "'Some say that every one year of a human’s life is equivalent to seven years of a dog’s life. Write a function named dog_years() that has two parameters named name and age.\\n\\nThe function should compute the age in dog years and return the following string:\\n\\n\"{name}, you are {age} years old in dog years\"\\nTest this function with your name and your age!'"
      ]
     },
     "execution_count": 16,
     "metadata": {},
     "output_type": "execute_result"
    }
   ],
   "source": [
    "\"\"\"Some say that every one year of a human’s life is equivalent to seven years of a dog’s life. Write a function named dog_years() that has two parameters named name and age.\n",
    "\n",
    "The function should compute the age in dog years and return the following string:\n",
    "\n",
    "\"{name}, you are {age} years old in dog years\"\n",
    "Test this function with your name and your age!\"\"\""
   ]
  },
  {
   "cell_type": "code",
   "execution_count": 17,
   "metadata": {},
   "outputs": [
    {
     "name": "stdout",
     "output_type": "stream",
     "text": [
      "Lola, you are 112 years old in dog years\n",
      "Baby, you are 0 years old in dog years\n"
     ]
    }
   ],
   "source": [
    "# Write your dog_years function here:\n",
    "def dog_years(name,age):\n",
    "  return name + \", you are \" + str(age * 7) + \" years old in dog years\"\n",
    "# Uncomment these function calls to test your dog_years function:\n",
    "print(dog_years(\"Lola\", 16))\n",
    "# should print \"Lola, you are 112 years old in dog years\"\n",
    "print(dog_years(\"Baby\", 0))\n",
    "# should print \"Baby, you are 0 years old in dog years\""
   ]
  },
  {
   "cell_type": "code",
   "execution_count": null,
   "metadata": {},
   "outputs": [],
   "source": []
  },
  {
   "cell_type": "code",
   "execution_count": 18,
   "metadata": {},
   "outputs": [
    {
     "data": {
      "text/plain": [
       "'Write a function named remainder() that has two parameters named num1 and num2.\\n\\nThe function should return the remainder of twice num1 divided by half of num2.'"
      ]
     },
     "execution_count": 18,
     "metadata": {},
     "output_type": "execute_result"
    }
   ],
   "source": [
    "\"\"\"Write a function named remainder() that has two parameters named num1 and num2.\n",
    "\n",
    "The function should return the remainder of twice num1 divided by half of num2.\"\"\""
   ]
  },
  {
   "cell_type": "code",
   "execution_count": null,
   "metadata": {},
   "outputs": [],
   "source": []
  },
  {
   "cell_type": "code",
   "execution_count": 19,
   "metadata": {},
   "outputs": [
    {
     "name": "stdout",
     "output_type": "stream",
     "text": [
      "2.0\n",
      "0.0\n"
     ]
    }
   ],
   "source": [
    "# Write your remainder function here:\n",
    "def remainder(num1, num2):\n",
    "  return (num1 * 2) % (num2 / 2)\n",
    "# Uncomment these function calls to test your remainder function:\n",
    "print(remainder(15, 14))\n",
    "# should print 2\n",
    "print(remainder(9, 6))\n",
    "# should print 0"
   ]
  },
  {
   "cell_type": "code",
   "execution_count": null,
   "metadata": {},
   "outputs": [],
   "source": []
  },
  {
   "cell_type": "code",
   "execution_count": 20,
   "metadata": {},
   "outputs": [
    {
     "data": {
      "text/plain": [
       "'Create a function named lots_of_math(). This function should have four parameters named a, b, c, and d. The function should print 3 lines and return 1 value.\\n\\nFirst, the sum of a and b.\\n\\nSecond, d subtracted from c.\\n\\nThird, the first number printed, multiplied by the second number printed.\\n\\nFinally, it should return the third number printed mod a.'"
      ]
     },
     "execution_count": 20,
     "metadata": {},
     "output_type": "execute_result"
    }
   ],
   "source": [
    "\"\"\"Create a function named lots_of_math(). This function should have four parameters named a, b, c, and d. The function should print 3 lines and return 1 value.\n",
    "\n",
    "First, the sum of a and b.\n",
    "\n",
    "Second, d subtracted from c.\n",
    "\n",
    "Third, the first number printed, multiplied by the second number printed.\n",
    "\n",
    "Finally, it should return the third number printed mod a.\"\"\""
   ]
  },
  {
   "cell_type": "code",
   "execution_count": 21,
   "metadata": {},
   "outputs": [
    {
     "name": "stdout",
     "output_type": "stream",
     "text": [
      "3\n",
      "-1\n",
      "-3\n",
      "0\n",
      "2\n",
      "0\n",
      "0\n",
      "0\n"
     ]
    }
   ],
   "source": [
    "# Write your lots_of_math function here:\n",
    "def lots_of_math(a, b, c, d):\n",
    "  first = a + b\n",
    "  second = c - d\n",
    "  third = first * second\n",
    "  print (first)\n",
    "  print (second)\n",
    "  print (third)\n",
    "  return third % first \n",
    "# Uncomment these function calls to test your lots_of_math function:\n",
    "print(lots_of_math(1, 2, 3, 4))\n",
    "# should print 3, -1, -3, 0\n",
    "print(lots_of_math(1, 1, 1, 1))\n",
    "# should print 2, 0, 0, 0\n"
   ]
  },
  {
   "cell_type": "code",
   "execution_count": null,
   "metadata": {},
   "outputs": [],
   "source": []
  }
 ],
 "metadata": {
  "kernelspec": {
   "display_name": "Python 3",
   "language": "python",
   "name": "python3"
  },
  "language_info": {
   "codemirror_mode": {
    "name": "ipython",
    "version": 3
   },
   "file_extension": ".py",
   "mimetype": "text/x-python",
   "name": "python",
   "nbconvert_exporter": "python",
   "pygments_lexer": "ipython3",
   "version": "3.7.0"
  }
 },
 "nbformat": 4,
 "nbformat_minor": 2
}
