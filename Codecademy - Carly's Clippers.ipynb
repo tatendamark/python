{
 "cells": [
  {
   "cell_type": "code",
   "execution_count": 1,
   "metadata": {},
   "outputs": [
    {
     "data": {
      "text/plain": [
       "\"Carly's Clippers\\nYou are the Data Analyst at Carly’s Clippers, the newest hair salon on the block. Your job is to go through the lists of data that have been collected in the past couple of weeks. You will be calculating some important metrics that Carly can use to plan out the operation of the business for the rest of the month.\\n\\nYou have been provided with three lists:\\n\\nhairstyles: the names of the cuts offered at Carly’s Clippers\\nprices: the price of each hairstyle in the hairstyles list\\nlast_week: the number of each hairstyle in hairstyles that was purchased last week\\nLet’s get started!\\n\\nIf you get stuck during this project or would like to see an experienced developer work through it, click “Get Help“ to see a project walkthrough video.\""
      ]
     },
     "execution_count": 1,
     "metadata": {},
     "output_type": "execute_result"
    }
   ],
   "source": [
    "\"\"\"Carly's Clippers\n",
    "You are the Data Analyst at Carly’s Clippers, the newest hair salon on the block. Your job is to go through the lists of data that have been collected in the past couple of weeks. You will be calculating some important metrics that Carly can use to plan out the operation of the business for the rest of the month.\n",
    "\n",
    "You have been provided with three lists:\n",
    "\n",
    "hairstyles: the names of the cuts offered at Carly’s Clippers\n",
    "prices: the price of each hairstyle in the hairstyles list\n",
    "last_week: the number of each hairstyle in hairstyles that was purchased last week\n",
    "Let’s get started!\n",
    "\n",
    "If you get stuck during this project or would like to see an experienced developer work through it, click “Get Help“ to see a project walkthrough video.\"\"\""
   ]
  },
  {
   "cell_type": "code",
   "execution_count": 2,
   "metadata": {},
   "outputs": [
    {
     "name": "stdout",
     "output_type": "stream",
     "text": [
      "255\n",
      "Average Haircut Price: 31.875\n",
      "[25, 20, 35, 15, 15, 30, 45, 30]\n",
      "Total Revenue: 1015\n",
      "145.0\n",
      "['bouffant', 'pixie', 'crew', 'bowl']\n"
     ]
    }
   ],
   "source": [
    "hairstyles = [\"bouffant\", \"pixie\", \"dreadlocks\", \"crew\", \"bowl\", \"bob\", \"mohawk\", \"flattop\"]\n",
    "\n",
    "prices = [30, 25, 40, 20, 20, 35, 50, 35]\n",
    "\n",
    "last_week = [2, 3, 5, 8, 4, 4, 6, 2]\n",
    "\n",
    "total_price = 0\n",
    "\n",
    "for price in prices:\n",
    "  total_price += price\n",
    "\n",
    "print(total_price)\n",
    "\n",
    "average_price = total_price/len(prices)\n",
    "print(\"Average Haircut Price: \" + str(average_price))\n",
    "\n",
    "new_prices = [price - 5 for price in prices]\n",
    "print(new_prices)\n",
    "\n",
    "total_revenue = 0\n",
    "\n",
    "for i in range(0, len(hairstyles) - 1):\n",
    "  total_revenue += prices[i] * last_week[i]\n",
    "  \n",
    "print(\"Total Revenue: \" + str(total_revenue))\n",
    "\n",
    "average_daily_revenue = total_revenue/7\n",
    "print(average_daily_revenue)\n",
    "\n",
    "cuts_under_30 = [hairstyles[i] for i in range(0, len(new_prices) - 1) if new_prices[i] < 30]\n",
    "\n",
    "print(cuts_under_30)\n",
    "\n",
    "\n",
    "\n",
    "\n",
    "\n",
    "\n"
   ]
  },
  {
   "cell_type": "code",
   "execution_count": null,
   "metadata": {},
   "outputs": [],
   "source": []
  }
 ],
 "metadata": {
  "kernelspec": {
   "display_name": "Python 3",
   "language": "python",
   "name": "python3"
  },
  "language_info": {
   "codemirror_mode": {
    "name": "ipython",
    "version": 3
   },
   "file_extension": ".py",
   "mimetype": "text/x-python",
   "name": "python",
   "nbconvert_exporter": "python",
   "pygments_lexer": "ipython3",
   "version": "3.7.0"
  }
 },
 "nbformat": 4,
 "nbformat_minor": 2
}
