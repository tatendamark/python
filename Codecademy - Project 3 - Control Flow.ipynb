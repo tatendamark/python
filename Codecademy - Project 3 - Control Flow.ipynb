{
 "cells": [
  {
   "cell_type": "code",
   "execution_count": 1,
   "metadata": {},
   "outputs": [
    {
     "data": {
      "text/plain": [
       "\"Sal's Shipping\\nSal runs the biggest shipping company in the tri-county area, Sal’s Shippers. Sal wants to make sure that every single one of his customers has the best, and most affordable experience shipping their packages. In this project, you’ll build a program that will take the weight of a package and determine the cheapest way to ship that package using Sal’s Shippers.\\n\\nSal’s Shippers has several different options for a customer to ship their package. They have ground shipping, which is a small flat charge plus a rate based on the weight of your package. Premium ground shipping, which is a much higher flat charge, but you aren’t charged for weight. They recently also implemented drone shipping, which has no flat charge, but the rate based on weight is triple the rate of ground shipping.\\n\\nHere are the prices:\\n\\nGround Shipping\\n\\nWeight of Package\\tPrice per Pound\\tFlat Charge\\n2 lb or less\\t$1.50\\t$20.00\\nOver 2 lb but less than or equal to 6 lb\\t$3.00\\t$20.00\\nOver 6 lb but less than or equal to 10 lb\\t$4.00\\t$20.00\\nOver 10 lb\\t$4.75\\t$20.00\\n\\nDrone Shipping\\n\\nWeight of Package\\tPrice per Pound\\tFlat Charge\\n2 lb or less\\t$4.50\\t$0.00\\nOver 2 lb but less than or equal to 6 lb\\t$9.00\\t$0.00\\nOver 6 lb but less than or equal to 10 lb\\t$12.00\\t$0.00\\nOver 10 lb\\t$14.25\\t$0.00\\n\\nPremium Ground Shipping\\n\\nFlat charge: $125.00\\n\\nWrite a program that asks the user for the weight of their package and then tells them which method of shipping is cheapest and how much it will cost to ship their package using Sal’s Shippers.\""
      ]
     },
     "execution_count": 1,
     "metadata": {},
     "output_type": "execute_result"
    }
   ],
   "source": [
    "\"\"\"Sal's Shipping\n",
    "Sal runs the biggest shipping company in the tri-county area, Sal’s Shippers. Sal wants to make sure that every single one of his customers has the best, and most affordable experience shipping their packages. In this project, you’ll build a program that will take the weight of a package and determine the cheapest way to ship that package using Sal’s Shippers.\n",
    "\n",
    "Sal’s Shippers has several different options for a customer to ship their package. They have ground shipping, which is a small flat charge plus a rate based on the weight of your package. Premium ground shipping, which is a much higher flat charge, but you aren’t charged for weight. They recently also implemented drone shipping, which has no flat charge, but the rate based on weight is triple the rate of ground shipping.\n",
    "\n",
    "Here are the prices:\n",
    "\n",
    "Ground Shipping\n",
    "\n",
    "Weight of Package\tPrice per Pound\tFlat Charge\n",
    "2 lb or less\t$1.50\t$20.00\n",
    "Over 2 lb but less than or equal to 6 lb\t$3.00\t$20.00\n",
    "Over 6 lb but less than or equal to 10 lb\t$4.00\t$20.00\n",
    "Over 10 lb\t$4.75\t$20.00\n",
    "\n",
    "Drone Shipping\n",
    "\n",
    "Weight of Package\tPrice per Pound\tFlat Charge\n",
    "2 lb or less\t$4.50\t$0.00\n",
    "Over 2 lb but less than or equal to 6 lb\t$9.00\t$0.00\n",
    "Over 6 lb but less than or equal to 10 lb\t$12.00\t$0.00\n",
    "Over 10 lb\t$14.25\t$0.00\n",
    "\n",
    "Premium Ground Shipping\n",
    "\n",
    "Flat charge: $125.00\n",
    "\n",
    "Write a program that asks the user for the weight of their package and then tells them which method of shipping is cheapest and how much it will cost to ship their package using Sal’s Shippers.\"\"\""
   ]
  },
  {
   "cell_type": "code",
   "execution_count": 2,
   "metadata": {},
   "outputs": [
    {
     "name": "stdout",
     "output_type": "stream",
     "text": [
      "53.6\n",
      "6.75\n",
      "Ground shipping is the cheapest option and costs 34.4 dollars\n",
      "Premium ground shipping is the cheapest option and costs 125.0 dollars\n"
     ]
    }
   ],
   "source": [
    "def ground_shipping(weight):\n",
    "  if weight <= 2:\n",
    "    cost = 1.50\n",
    "  elif weight > 2 and weight <= 6:\n",
    "    cost = 3.00\n",
    "  elif weight > 6 and weight <= 10:\n",
    "    cost = 4.00\n",
    "  else:\n",
    "    cost = 4.75\n",
    "    \n",
    "  return weight * cost + 20.00\n",
    "\n",
    "print (ground_shipping(8.4))\n",
    "\n",
    "\n",
    "cost_of_prem_gs = 125.00\n",
    "\n",
    "def cost_of_drone_ship(weight):\n",
    "  if weight <= 2:\n",
    "    cost = 4.50\n",
    "  elif weight > 2 and weight <= 6:\n",
    "    cost = 9.00\n",
    "  elif weight > 6 and weight <= 10:\n",
    "    cost = 12.00\n",
    "  else:\n",
    "    cost = 14.25\n",
    "    \n",
    "  return weight * cost + 0.00\n",
    "print (cost_of_drone_ship(1.5))\n",
    "\n",
    "\n",
    "def shipping_cost(weight):\n",
    "  if ground_shipping(weight) < cost_of_prem_gs and ground_shipping(weight) < cost_of_drone_ship(weight):\n",
    "    return \"Ground shipping is the cheapest option and costs \" + str(ground_shipping(weight)) + \" dollars\"\n",
    "  \n",
    "  if cost_of_prem_gs < ground_shipping(weight) and cost_of_prem_gs < cost_of_drone_ship(weight):\n",
    "    return \"Premium ground shipping is the cheapest option and costs \" + str(cost_of_prem_gs) + \" dollars\"\n",
    "  \n",
    "  else:\n",
    "    return \"Drone shipping is the cheapest option and costs \" + str(cost_of_drone_ship(weight)) + \" dollars\"\n",
    "  \n",
    "\n",
    "print (shipping_cost(4.8))\n",
    "print (shipping_cost(41.5))\n",
    "\n",
    "\n",
    "\n",
    "\n",
    "\n",
    "\n",
    "\n",
    "\n"
   ]
  },
  {
   "cell_type": "code",
   "execution_count": 3,
   "metadata": {},
   "outputs": [
    {
     "ename": "SyntaxError",
     "evalue": "invalid syntax (<ipython-input-3-a90d0b27ff39>, line 2)",
     "output_type": "error",
     "traceback": [
      "\u001b[1;36m  File \u001b[1;32m\"<ipython-input-3-a90d0b27ff39>\"\u001b[1;36m, line \u001b[1;32m2\u001b[0m\n\u001b[1;33m    if x = 0:\u001b[0m\n\u001b[1;37m         ^\u001b[0m\n\u001b[1;31mSyntaxError\u001b[0m\u001b[1;31m:\u001b[0m invalid syntax\n"
     ]
    }
   ],
   "source": [
    "def simple_conditional(x):\n",
    "  if x = 0:\n",
    "    print(\"x is equal to zero.\")\n",
    "  elif x >= 0:\n",
    "    print(\"x is greater than zero.\")\n",
    "  else:\n",
    "    print(\"x is less than zero.\")\n",
    "\n",
    "simple_conditional(0)"
   ]
  },
  {
   "cell_type": "code",
   "execution_count": null,
   "metadata": {},
   "outputs": [],
   "source": []
  }
 ],
 "metadata": {
  "kernelspec": {
   "display_name": "Python 3",
   "language": "python",
   "name": "python3"
  },
  "language_info": {
   "codemirror_mode": {
    "name": "ipython",
    "version": 3
   },
   "file_extension": ".py",
   "mimetype": "text/x-python",
   "name": "python",
   "nbconvert_exporter": "python",
   "pygments_lexer": "ipython3",
   "version": "3.7.0"
  }
 },
 "nbformat": 4,
 "nbformat_minor": 2
}
