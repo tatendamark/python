{
 "cells": [
  {
   "cell_type": "code",
   "execution_count": 2,
   "metadata": {},
   "outputs": [
    {
     "data": {
      "text/plain": [
       "'Getting Ready for Physics Class\\nYou are a physics teacher preparing for the upcoming semester. You want to provide your students with some functions that will help them calculate some fundamental physical properties.\\n\\nIf you get stuck during this project or would like to see an experienced developer work through it, click “Get Help“ to see a project walkthrough video.'"
      ]
     },
     "execution_count": 2,
     "metadata": {},
     "output_type": "execute_result"
    }
   ],
   "source": [
    "\"\"\"Getting Ready for Physics Class\n",
    "You are a physics teacher preparing for the upcoming semester. You want to provide your students with some functions that will help them calculate some fundamental physical properties.\n",
    "\n",
    "If you get stuck during this project or would like to see an experienced developer work through it, click “Get Help“ to see a project walkthrough video.\"\"\""
   ]
  },
  {
   "cell_type": "code",
   "execution_count": 1,
   "metadata": {},
   "outputs": [
    {
     "name": "stdout",
     "output_type": "stream",
     "text": [
      "226800\n",
      "The GE train supplies 226800 of force.\n",
      "A 1kg bomb supplies 300000000 Joules.\n",
      "The GE train does 22680000 Joules of work over 100 meters.\n"
     ]
    }
   ],
   "source": [
    "train_mass = 22680\n",
    "train_acceleration = 10\n",
    "train_distance = 100\n",
    "\n",
    "bomb_mass = 1\n",
    "\n",
    "def f_to_c(f_temp):\n",
    "  c_temp = (f_temp - 32) * 5/9 \n",
    "  return c_temp\n",
    "\n",
    "f100_in_celcius = f_to_c(100)\n",
    "\n",
    "\n",
    "def c_to_f(c_temp):\n",
    "  f_temp = c_temp * (9/5) + 32\n",
    "  return f_temp\n",
    "\n",
    "c0_in_fahrenheit = c_to_f(0)\n",
    "\n",
    "\n",
    "def get_force(mass,acceleration):\n",
    "  return mass * acceleration\n",
    "\n",
    "train_force = get_force(train_mass, train_acceleration)\n",
    "print(train_force)\n",
    "print(\"The GE train supplies \" + str(train_force) + \" of force.\")\n",
    "\n",
    "\n",
    "def get_energy(mass, c = 3*10**8):\n",
    "  return mass * c\n",
    "\n",
    "bomb_energy = get_energy(bomb_mass)\n",
    "\n",
    "print(\"A 1kg bomb supplies \" + str(bomb_energy) + \" Joules.\") \n",
    "\n",
    "\n",
    "def get_work(mass, acceleration, distance):\n",
    "  work = get_force(mass,acceleration) * distance\n",
    "  return work\n",
    "\n",
    "train_work = get_work(train_mass,train_acceleration, train_distance)\n",
    "\n",
    "print(\"The GE train does \" + str(train_work) + \" Joules of work over \" + str(train_distance) + \" meters.\")\n",
    "  "
   ]
  },
  {
   "cell_type": "code",
   "execution_count": null,
   "metadata": {},
   "outputs": [],
   "source": []
  }
 ],
 "metadata": {
  "kernelspec": {
   "display_name": "Python 3",
   "language": "python",
   "name": "python3"
  },
  "language_info": {
   "codemirror_mode": {
    "name": "ipython",
    "version": 3
   },
   "file_extension": ".py",
   "mimetype": "text/x-python",
   "name": "python",
   "nbconvert_exporter": "python",
   "pygments_lexer": "ipython3",
   "version": "3.7.0"
  }
 },
 "nbformat": 4,
 "nbformat_minor": 2
}
