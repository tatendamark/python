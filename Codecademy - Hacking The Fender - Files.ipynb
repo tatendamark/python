{
 "cells": [
  {
   "cell_type": "code",
   "execution_count": 1,
   "metadata": {},
   "outputs": [
    {
     "name": "stdout",
     "output_type": "stream",
     "text": [
      "\n",
      " *Reading In The Passwords* \n",
      "\n",
      "\n",
      "compromised_users: \n",
      "\n",
      "[]\n",
      "\n",
      " *Notifying the Boss* \n",
      "\n",
      "{'recipient': 'The Boss', 'message': 'Mission success'}\n",
      "\n",
      " *Scrambling the Password* \n",
      "\n"
     ]
    }
   ],
   "source": [
    "print('\\n *Reading In The Passwords* \\n')\n",
    "\n",
    "import csv\n",
    "\n",
    "compromised_users = []\n",
    "\n",
    "#print('\\nPassword Usernames: \\n')\n",
    "with open('passwords.csv') as password_file:\n",
    "  password_csv = csv.DictReader(password_file)\n",
    "  for password_row in password_csv:\n",
    "    #print(password_row)\n",
    "    #print(password_row['Username'])\n",
    "    compromised_users.append(password_row['Username'])\n",
    "print('\\ncompromised_users: \\n')\n",
    "print(compromised_users)\n",
    "\n",
    "\n",
    "with open('compromised_users.txt', 'w') as compromised_user_file:\n",
    "  for user in compromised_users:\n",
    "    compromised_user_file.write(user)\n",
    "\n",
    "print('\\n *Notifying the Boss* \\n')\n",
    "import json  \n",
    "\n",
    "with open('boss_message.json', 'w') as boss_message:\n",
    "  boss_message_dict = {}\n",
    "  boss_message_dict['recipient'] = 'The Boss'\n",
    "  boss_message_dict['message'] = 'Mission success'\n",
    "  json.dump(boss_message_dict, boss_message)\n",
    "  \n",
    "print(boss_message_dict) \n",
    "print('\\n *Scrambling the Password* \\n')\n",
    "\n",
    "with open('new_passowrds.csv', 'w') as new_passwords_obj:\n",
    "  slash_null_sig = \"\"\"\n",
    "  \n",
    "/ )( \\   / __) /  \\(_  _)            \n",
    ") \\/ (  ( (_ \\(  O ) )(              \n",
    "\\____/   \\___/ \\__/ (__)             \n",
    " _  _   __    ___  __ _  ____  ____  \n",
    "/ )( \\ / _\\  / __)(  / )(  __)(    \\ \n",
    ") __ (/    \\( (__  )  (  ) _)  ) D ( \n",
    "\\_)(_/\\_/\\_/ \\___)(__\\_)(____)(____/ \n",
    "\n",
    "        ____  __     __   ____  _  _ \n",
    " ___   / ___)(  )   / _\\ / ___)/ )( \\\n",
    "(___)  \\___ \\/ (_/\\/    \\\\___ \\) __ (\n",
    "       (____/\\____/\\_/\\_/(____/\\_)(_/\n",
    " __ _  _  _  __    __                \n",
    "(  ( \\/ )( \\(  )  (  )               \n",
    "/    /) \\/ (/ (_/\\/ (_/\\             \n",
    "\\_)__)\\____/\\____/\\____/\n",
    "\n",
    "\"\"\"\n",
    "  \n",
    "  new_passwords_obj.write(slash_null_sig)\n",
    "  \n",
    "  \n",
    "  \n",
    "  \n",
    "  \n"
   ]
  },
  {
   "cell_type": "code",
   "execution_count": null,
   "metadata": {},
   "outputs": [],
   "source": []
  }
 ],
 "metadata": {
  "kernelspec": {
   "display_name": "Python 3",
   "language": "python",
   "name": "python3"
  },
  "language_info": {
   "codemirror_mode": {
    "name": "ipython",
    "version": 3
   },
   "file_extension": ".py",
   "mimetype": "text/x-python",
   "name": "python",
   "nbconvert_exporter": "python",
   "pygments_lexer": "ipython3",
   "version": "3.7.0"
  }
 },
 "nbformat": 4,
 "nbformat_minor": 2
}
